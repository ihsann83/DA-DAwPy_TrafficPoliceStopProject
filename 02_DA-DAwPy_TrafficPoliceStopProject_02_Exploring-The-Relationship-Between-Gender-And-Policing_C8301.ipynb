{
 "cells": [
  {
   "cell_type": "markdown",
   "metadata": {},
   "source": [
    "___\n",
    "\n",
    "<p style=\"text-align: center;\"><img src=\"https://docs.google.com/uc?id=1lY0Uj5R04yMY3-ZppPWxqCr5pvBLYPnV\" class=\"img-fluid\" alt=\"CLRSWY\"></p>\n",
    "\n",
    "___"
   ]
  },
  {
   "cell_type": "markdown",
   "metadata": {},
   "source": [
    "<h1><p style=\"text-align: center;\">Data Analysis with Python <br>Project - 1</p><h1> - Traffic Police Stops <img src=\"https://docs.google.com/uc?id=17CPCwi3_VvzcS87TOsh4_U8eExOhL6Ki\" class=\"img-fluid\" alt=\"CLRSWY\" width=\"200\" height=\"100\"> "
   ]
  },
  {
   "cell_type": "markdown",
   "metadata": {},
   "source": [
    "Does the ``gender`` of a driver have an impact on police behavior during a traffic stop? **In this chapter**, you will explore that question while practicing filtering, grouping, method chaining, Boolean math, string methods, and more!"
   ]
  },
  {
   "cell_type": "markdown",
   "metadata": {},
   "source": [
    "***"
   ]
  },
  {
   "cell_type": "markdown",
   "metadata": {},
   "source": [
    "## Examining traffic violations"
   ]
  },
  {
   "cell_type": "markdown",
   "metadata": {},
   "source": [
    "Before comparing the violations being committed by each gender, you should examine the ``violations`` committed by all drivers to get a baseline understanding of the data.\n",
    "\n",
    "In this exercise, you'll count the unique values in the ``violation`` column, and then separately express those counts as proportions."
   ]
  },
  {
   "cell_type": "markdown",
   "metadata": {},
   "source": [
    "> Before starting your work in this section **repeat the steps which you did in the previos chapter for preparing the data.** Continue to this chapter based on where you were in the end of the previous chapter."
   ]
  },
  {
   "cell_type": "code",
   "execution_count": 1,
   "metadata": {},
   "outputs": [],
   "source": [
    "import pandas as pd\n",
    "import numpy as np\n",
    "from scipy import stats\n",
    "from scipy import math"
   ]
  },
  {
   "cell_type": "code",
   "execution_count": 2,
   "metadata": {},
   "outputs": [
    {
     "name": "stderr",
     "output_type": "stream",
     "text": [
      "C:\\Users\\Toshiba\\anaconda3\\lib\\site-packages\\IPython\\core\\interactiveshell.py:3165: DtypeWarning: Columns (8,16) have mixed types.Specify dtype option on import or set low_memory=False.\n",
      "  has_raised = await self.run_ast_nodes(code_ast.body, cell_name,\n"
     ]
    }
   ],
   "source": [
    "ri = pd.read_csv(\"RI_cleaned.csv\")"
   ]
  },
  {
   "cell_type": "code",
   "execution_count": 3,
   "metadata": {},
   "outputs": [
    {
     "data": {
      "text/html": [
       "<div>\n",
       "<style scoped>\n",
       "    .dataframe tbody tr th:only-of-type {\n",
       "        vertical-align: middle;\n",
       "    }\n",
       "\n",
       "    .dataframe tbody tr th {\n",
       "        vertical-align: top;\n",
       "    }\n",
       "\n",
       "    .dataframe thead th {\n",
       "        text-align: right;\n",
       "    }\n",
       "</style>\n",
       "<table border=\"1\" class=\"dataframe\">\n",
       "  <thead>\n",
       "    <tr style=\"text-align: right;\">\n",
       "      <th></th>\n",
       "      <th>id</th>\n",
       "      <th>state</th>\n",
       "      <th>stop_date</th>\n",
       "      <th>stop_time</th>\n",
       "      <th>location_raw</th>\n",
       "      <th>county_name</th>\n",
       "      <th>county_fips</th>\n",
       "      <th>fine_grained_location</th>\n",
       "      <th>police_department</th>\n",
       "      <th>driver_gender</th>\n",
       "      <th>...</th>\n",
       "      <th>search_conducted</th>\n",
       "      <th>search_type_raw</th>\n",
       "      <th>search_type</th>\n",
       "      <th>contraband_found</th>\n",
       "      <th>stop_outcome</th>\n",
       "      <th>is_arrested</th>\n",
       "      <th>stop_duration</th>\n",
       "      <th>out_of_state</th>\n",
       "      <th>drugs_related_stop</th>\n",
       "      <th>district</th>\n",
       "    </tr>\n",
       "  </thead>\n",
       "  <tbody>\n",
       "    <tr>\n",
       "      <th>0</th>\n",
       "      <td>RI-2005-00001</td>\n",
       "      <td>RI</td>\n",
       "      <td>2005-01-02</td>\n",
       "      <td>01:55</td>\n",
       "      <td>Zone K1</td>\n",
       "      <td>NaN</td>\n",
       "      <td>NaN</td>\n",
       "      <td>NaN</td>\n",
       "      <td>600</td>\n",
       "      <td>M</td>\n",
       "      <td>...</td>\n",
       "      <td>False</td>\n",
       "      <td>NaN</td>\n",
       "      <td>NaN</td>\n",
       "      <td>False</td>\n",
       "      <td>Citation</td>\n",
       "      <td>False</td>\n",
       "      <td>0-15 Min</td>\n",
       "      <td>False</td>\n",
       "      <td>False</td>\n",
       "      <td>Zone K1</td>\n",
       "    </tr>\n",
       "  </tbody>\n",
       "</table>\n",
       "<p>1 rows × 26 columns</p>\n",
       "</div>"
      ],
      "text/plain": [
       "              id state   stop_date stop_time location_raw  county_name  \\\n",
       "0  RI-2005-00001    RI  2005-01-02     01:55      Zone K1          NaN   \n",
       "\n",
       "   county_fips  fine_grained_location police_department driver_gender  ...  \\\n",
       "0          NaN                    NaN               600             M  ...   \n",
       "\n",
       "   search_conducted  search_type_raw search_type contraband_found  \\\n",
       "0             False              NaN         NaN            False   \n",
       "\n",
       "  stop_outcome is_arrested stop_duration out_of_state drugs_related_stop  \\\n",
       "0     Citation       False      0-15 Min        False              False   \n",
       "\n",
       "   district  \n",
       "0   Zone K1  \n",
       "\n",
       "[1 rows x 26 columns]"
      ]
     },
     "execution_count": 3,
     "metadata": {},
     "output_type": "execute_result"
    }
   ],
   "source": [
    "ri.head(1)"
   ]
  },
  {
   "cell_type": "code",
   "execution_count": 4,
   "metadata": {},
   "outputs": [
    {
     "data": {
      "text/plain": [
       "Index(['id', 'state', 'stop_date', 'stop_time', 'location_raw', 'county_name',\n",
       "       'county_fips', 'fine_grained_location', 'police_department',\n",
       "       'driver_gender', 'driver_age_raw', 'driver_age', 'driver_race_raw',\n",
       "       'driver_race', 'violation_raw', 'violation', 'search_conducted',\n",
       "       'search_type_raw', 'search_type', 'contraband_found', 'stop_outcome',\n",
       "       'is_arrested', 'stop_duration', 'out_of_state', 'drugs_related_stop',\n",
       "       'district'],\n",
       "      dtype='object')"
      ]
     },
     "execution_count": 4,
     "metadata": {},
     "output_type": "execute_result"
    }
   ],
   "source": [
    "ri.columns"
   ]
  },
  {
   "cell_type": "code",
   "execution_count": 5,
   "metadata": {},
   "outputs": [
    {
     "data": {
      "text/html": [
       "<div>\n",
       "<style scoped>\n",
       "    .dataframe tbody tr th:only-of-type {\n",
       "        vertical-align: middle;\n",
       "    }\n",
       "\n",
       "    .dataframe tbody tr th {\n",
       "        vertical-align: top;\n",
       "    }\n",
       "\n",
       "    .dataframe thead th {\n",
       "        text-align: right;\n",
       "    }\n",
       "</style>\n",
       "<table border=\"1\" class=\"dataframe\">\n",
       "  <thead>\n",
       "    <tr style=\"text-align: right;\">\n",
       "      <th></th>\n",
       "      <th>id</th>\n",
       "      <th>state</th>\n",
       "      <th>stop_date</th>\n",
       "      <th>stop_time</th>\n",
       "      <th>location_raw</th>\n",
       "      <th>county_name</th>\n",
       "      <th>county_fips</th>\n",
       "      <th>fine_grained_location</th>\n",
       "      <th>police_department</th>\n",
       "      <th>driver_gender</th>\n",
       "      <th>...</th>\n",
       "      <th>search_conducted</th>\n",
       "      <th>search_type_raw</th>\n",
       "      <th>search_type</th>\n",
       "      <th>contraband_found</th>\n",
       "      <th>stop_outcome</th>\n",
       "      <th>is_arrested</th>\n",
       "      <th>stop_duration</th>\n",
       "      <th>out_of_state</th>\n",
       "      <th>drugs_related_stop</th>\n",
       "      <th>district</th>\n",
       "    </tr>\n",
       "  </thead>\n",
       "  <tbody>\n",
       "    <tr>\n",
       "      <th>0</th>\n",
       "      <td>False</td>\n",
       "      <td>False</td>\n",
       "      <td>False</td>\n",
       "      <td>False</td>\n",
       "      <td>False</td>\n",
       "      <td>True</td>\n",
       "      <td>True</td>\n",
       "      <td>True</td>\n",
       "      <td>False</td>\n",
       "      <td>False</td>\n",
       "      <td>...</td>\n",
       "      <td>False</td>\n",
       "      <td>True</td>\n",
       "      <td>True</td>\n",
       "      <td>False</td>\n",
       "      <td>False</td>\n",
       "      <td>False</td>\n",
       "      <td>False</td>\n",
       "      <td>False</td>\n",
       "      <td>False</td>\n",
       "      <td>False</td>\n",
       "    </tr>\n",
       "    <tr>\n",
       "      <th>1</th>\n",
       "      <td>False</td>\n",
       "      <td>False</td>\n",
       "      <td>False</td>\n",
       "      <td>False</td>\n",
       "      <td>False</td>\n",
       "      <td>True</td>\n",
       "      <td>True</td>\n",
       "      <td>True</td>\n",
       "      <td>False</td>\n",
       "      <td>False</td>\n",
       "      <td>...</td>\n",
       "      <td>False</td>\n",
       "      <td>True</td>\n",
       "      <td>True</td>\n",
       "      <td>False</td>\n",
       "      <td>False</td>\n",
       "      <td>False</td>\n",
       "      <td>False</td>\n",
       "      <td>False</td>\n",
       "      <td>False</td>\n",
       "      <td>False</td>\n",
       "    </tr>\n",
       "    <tr>\n",
       "      <th>2</th>\n",
       "      <td>False</td>\n",
       "      <td>False</td>\n",
       "      <td>False</td>\n",
       "      <td>False</td>\n",
       "      <td>False</td>\n",
       "      <td>True</td>\n",
       "      <td>True</td>\n",
       "      <td>True</td>\n",
       "      <td>False</td>\n",
       "      <td>True</td>\n",
       "      <td>...</td>\n",
       "      <td>False</td>\n",
       "      <td>True</td>\n",
       "      <td>True</td>\n",
       "      <td>False</td>\n",
       "      <td>True</td>\n",
       "      <td>True</td>\n",
       "      <td>True</td>\n",
       "      <td>True</td>\n",
       "      <td>False</td>\n",
       "      <td>False</td>\n",
       "    </tr>\n",
       "    <tr>\n",
       "      <th>3</th>\n",
       "      <td>False</td>\n",
       "      <td>False</td>\n",
       "      <td>False</td>\n",
       "      <td>False</td>\n",
       "      <td>False</td>\n",
       "      <td>True</td>\n",
       "      <td>True</td>\n",
       "      <td>True</td>\n",
       "      <td>False</td>\n",
       "      <td>False</td>\n",
       "      <td>...</td>\n",
       "      <td>False</td>\n",
       "      <td>True</td>\n",
       "      <td>True</td>\n",
       "      <td>False</td>\n",
       "      <td>False</td>\n",
       "      <td>False</td>\n",
       "      <td>False</td>\n",
       "      <td>False</td>\n",
       "      <td>False</td>\n",
       "      <td>False</td>\n",
       "    </tr>\n",
       "    <tr>\n",
       "      <th>4</th>\n",
       "      <td>False</td>\n",
       "      <td>False</td>\n",
       "      <td>False</td>\n",
       "      <td>False</td>\n",
       "      <td>False</td>\n",
       "      <td>True</td>\n",
       "      <td>True</td>\n",
       "      <td>True</td>\n",
       "      <td>False</td>\n",
       "      <td>False</td>\n",
       "      <td>...</td>\n",
       "      <td>False</td>\n",
       "      <td>True</td>\n",
       "      <td>True</td>\n",
       "      <td>False</td>\n",
       "      <td>False</td>\n",
       "      <td>False</td>\n",
       "      <td>False</td>\n",
       "      <td>False</td>\n",
       "      <td>False</td>\n",
       "      <td>False</td>\n",
       "    </tr>\n",
       "    <tr>\n",
       "      <th>...</th>\n",
       "      <td>...</td>\n",
       "      <td>...</td>\n",
       "      <td>...</td>\n",
       "      <td>...</td>\n",
       "      <td>...</td>\n",
       "      <td>...</td>\n",
       "      <td>...</td>\n",
       "      <td>...</td>\n",
       "      <td>...</td>\n",
       "      <td>...</td>\n",
       "      <td>...</td>\n",
       "      <td>...</td>\n",
       "      <td>...</td>\n",
       "      <td>...</td>\n",
       "      <td>...</td>\n",
       "      <td>...</td>\n",
       "      <td>...</td>\n",
       "      <td>...</td>\n",
       "      <td>...</td>\n",
       "      <td>...</td>\n",
       "      <td>...</td>\n",
       "    </tr>\n",
       "    <tr>\n",
       "      <th>509676</th>\n",
       "      <td>False</td>\n",
       "      <td>False</td>\n",
       "      <td>True</td>\n",
       "      <td>True</td>\n",
       "      <td>False</td>\n",
       "      <td>True</td>\n",
       "      <td>True</td>\n",
       "      <td>True</td>\n",
       "      <td>True</td>\n",
       "      <td>True</td>\n",
       "      <td>...</td>\n",
       "      <td>True</td>\n",
       "      <td>True</td>\n",
       "      <td>True</td>\n",
       "      <td>False</td>\n",
       "      <td>True</td>\n",
       "      <td>True</td>\n",
       "      <td>True</td>\n",
       "      <td>True</td>\n",
       "      <td>False</td>\n",
       "      <td>False</td>\n",
       "    </tr>\n",
       "    <tr>\n",
       "      <th>509677</th>\n",
       "      <td>False</td>\n",
       "      <td>False</td>\n",
       "      <td>True</td>\n",
       "      <td>True</td>\n",
       "      <td>False</td>\n",
       "      <td>True</td>\n",
       "      <td>True</td>\n",
       "      <td>True</td>\n",
       "      <td>True</td>\n",
       "      <td>True</td>\n",
       "      <td>...</td>\n",
       "      <td>True</td>\n",
       "      <td>True</td>\n",
       "      <td>True</td>\n",
       "      <td>False</td>\n",
       "      <td>True</td>\n",
       "      <td>True</td>\n",
       "      <td>True</td>\n",
       "      <td>True</td>\n",
       "      <td>False</td>\n",
       "      <td>False</td>\n",
       "    </tr>\n",
       "    <tr>\n",
       "      <th>509678</th>\n",
       "      <td>False</td>\n",
       "      <td>False</td>\n",
       "      <td>True</td>\n",
       "      <td>True</td>\n",
       "      <td>False</td>\n",
       "      <td>True</td>\n",
       "      <td>True</td>\n",
       "      <td>True</td>\n",
       "      <td>True</td>\n",
       "      <td>True</td>\n",
       "      <td>...</td>\n",
       "      <td>True</td>\n",
       "      <td>True</td>\n",
       "      <td>True</td>\n",
       "      <td>False</td>\n",
       "      <td>True</td>\n",
       "      <td>True</td>\n",
       "      <td>True</td>\n",
       "      <td>True</td>\n",
       "      <td>False</td>\n",
       "      <td>False</td>\n",
       "    </tr>\n",
       "    <tr>\n",
       "      <th>509679</th>\n",
       "      <td>False</td>\n",
       "      <td>False</td>\n",
       "      <td>True</td>\n",
       "      <td>True</td>\n",
       "      <td>False</td>\n",
       "      <td>True</td>\n",
       "      <td>True</td>\n",
       "      <td>True</td>\n",
       "      <td>True</td>\n",
       "      <td>True</td>\n",
       "      <td>...</td>\n",
       "      <td>True</td>\n",
       "      <td>True</td>\n",
       "      <td>True</td>\n",
       "      <td>False</td>\n",
       "      <td>True</td>\n",
       "      <td>True</td>\n",
       "      <td>True</td>\n",
       "      <td>True</td>\n",
       "      <td>False</td>\n",
       "      <td>False</td>\n",
       "    </tr>\n",
       "    <tr>\n",
       "      <th>509680</th>\n",
       "      <td>False</td>\n",
       "      <td>False</td>\n",
       "      <td>True</td>\n",
       "      <td>True</td>\n",
       "      <td>False</td>\n",
       "      <td>True</td>\n",
       "      <td>True</td>\n",
       "      <td>True</td>\n",
       "      <td>True</td>\n",
       "      <td>True</td>\n",
       "      <td>...</td>\n",
       "      <td>True</td>\n",
       "      <td>True</td>\n",
       "      <td>True</td>\n",
       "      <td>False</td>\n",
       "      <td>True</td>\n",
       "      <td>True</td>\n",
       "      <td>True</td>\n",
       "      <td>True</td>\n",
       "      <td>False</td>\n",
       "      <td>False</td>\n",
       "    </tr>\n",
       "  </tbody>\n",
       "</table>\n",
       "<p>509681 rows × 26 columns</p>\n",
       "</div>"
      ],
      "text/plain": [
       "           id  state  stop_date  stop_time  location_raw  county_name  \\\n",
       "0       False  False      False      False         False         True   \n",
       "1       False  False      False      False         False         True   \n",
       "2       False  False      False      False         False         True   \n",
       "3       False  False      False      False         False         True   \n",
       "4       False  False      False      False         False         True   \n",
       "...       ...    ...        ...        ...           ...          ...   \n",
       "509676  False  False       True       True         False         True   \n",
       "509677  False  False       True       True         False         True   \n",
       "509678  False  False       True       True         False         True   \n",
       "509679  False  False       True       True         False         True   \n",
       "509680  False  False       True       True         False         True   \n",
       "\n",
       "        county_fips  fine_grained_location  police_department  driver_gender  \\\n",
       "0              True                   True              False          False   \n",
       "1              True                   True              False          False   \n",
       "2              True                   True              False           True   \n",
       "3              True                   True              False          False   \n",
       "4              True                   True              False          False   \n",
       "...             ...                    ...                ...            ...   \n",
       "509676         True                   True               True           True   \n",
       "509677         True                   True               True           True   \n",
       "509678         True                   True               True           True   \n",
       "509679         True                   True               True           True   \n",
       "509680         True                   True               True           True   \n",
       "\n",
       "        ...  search_conducted  search_type_raw  search_type  contraband_found  \\\n",
       "0       ...             False             True         True             False   \n",
       "1       ...             False             True         True             False   \n",
       "2       ...             False             True         True             False   \n",
       "3       ...             False             True         True             False   \n",
       "4       ...             False             True         True             False   \n",
       "...     ...               ...              ...          ...               ...   \n",
       "509676  ...              True             True         True             False   \n",
       "509677  ...              True             True         True             False   \n",
       "509678  ...              True             True         True             False   \n",
       "509679  ...              True             True         True             False   \n",
       "509680  ...              True             True         True             False   \n",
       "\n",
       "        stop_outcome  is_arrested  stop_duration  out_of_state  \\\n",
       "0              False        False          False         False   \n",
       "1              False        False          False         False   \n",
       "2               True         True           True          True   \n",
       "3              False        False          False         False   \n",
       "4              False        False          False         False   \n",
       "...              ...          ...            ...           ...   \n",
       "509676          True         True           True          True   \n",
       "509677          True         True           True          True   \n",
       "509678          True         True           True          True   \n",
       "509679          True         True           True          True   \n",
       "509680          True         True           True          True   \n",
       "\n",
       "        drugs_related_stop  district  \n",
       "0                    False     False  \n",
       "1                    False     False  \n",
       "2                    False     False  \n",
       "3                    False     False  \n",
       "4                    False     False  \n",
       "...                    ...       ...  \n",
       "509676               False     False  \n",
       "509677               False     False  \n",
       "509678               False     False  \n",
       "509679               False     False  \n",
       "509680               False     False  \n",
       "\n",
       "[509681 rows x 26 columns]"
      ]
     },
     "execution_count": 5,
     "metadata": {},
     "output_type": "execute_result"
    }
   ],
   "source": [
    "ri.isnull()"
   ]
  },
  {
   "cell_type": "code",
   "execution_count": 6,
   "metadata": {},
   "outputs": [
    {
     "data": {
      "text/plain": [
       "id                            0\n",
       "state                         0\n",
       "stop_date                    10\n",
       "stop_time                    10\n",
       "location_raw                  0\n",
       "county_name              509681\n",
       "county_fips              509681\n",
       "fine_grained_location    509681\n",
       "police_department            10\n",
       "driver_gender             29097\n",
       "driver_age_raw            29049\n",
       "driver_age                30695\n",
       "driver_race_raw           29073\n",
       "driver_race               29073\n",
       "violation_raw             29073\n",
       "violation                 29073\n",
       "search_conducted             10\n",
       "search_type_raw          491919\n",
       "search_type              491919\n",
       "contraband_found              0\n",
       "stop_outcome              29073\n",
       "is_arrested               29073\n",
       "stop_duration             29073\n",
       "out_of_state              29881\n",
       "drugs_related_stop            0\n",
       "district                      0\n",
       "dtype: int64"
      ]
     },
     "execution_count": 6,
     "metadata": {},
     "output_type": "execute_result"
    }
   ],
   "source": [
    "ri.isnull().sum()"
   ]
  },
  {
   "cell_type": "code",
   "execution_count": 7,
   "metadata": {},
   "outputs": [
    {
     "data": {
      "text/plain": [
       "(509681, 26)"
      ]
     },
     "execution_count": 7,
     "metadata": {},
     "output_type": "execute_result"
    }
   ],
   "source": [
    "ri.shape"
   ]
  },
  {
   "cell_type": "code",
   "execution_count": 8,
   "metadata": {},
   "outputs": [],
   "source": [
    "# ri(ri.columns[ri.apply(lambda col: col.isnull().sum()/len(ri) == 1)], axis=1, inplace=True)\n",
    "ri.drop([\"county_name\", \"county_fips\", \"fine_grained_location\"], axis = 1, inplace = True)"
   ]
  },
  {
   "cell_type": "code",
   "execution_count": 9,
   "metadata": {},
   "outputs": [
    {
     "data": {
      "text/plain": [
       "(509681, 23)"
      ]
     },
     "execution_count": 9,
     "metadata": {},
     "output_type": "execute_result"
    }
   ],
   "source": [
    "ri.shape"
   ]
  },
  {
   "cell_type": "code",
   "execution_count": 10,
   "metadata": {},
   "outputs": [
    {
     "data": {
      "text/plain": [
       "id                         0\n",
       "state                      0\n",
       "stop_date                 10\n",
       "stop_time                 10\n",
       "location_raw               0\n",
       "police_department         10\n",
       "driver_gender          29097\n",
       "driver_age_raw         29049\n",
       "driver_age             30695\n",
       "driver_race_raw        29073\n",
       "driver_race            29073\n",
       "violation_raw          29073\n",
       "violation              29073\n",
       "search_conducted          10\n",
       "search_type_raw       491919\n",
       "search_type           491919\n",
       "contraband_found           0\n",
       "stop_outcome           29073\n",
       "is_arrested            29073\n",
       "stop_duration          29073\n",
       "out_of_state           29881\n",
       "drugs_related_stop         0\n",
       "district                   0\n",
       "dtype: int64"
      ]
     },
     "execution_count": 10,
     "metadata": {},
     "output_type": "execute_result"
    }
   ],
   "source": [
    "ri.isnull().sum()"
   ]
  },
  {
   "cell_type": "code",
   "execution_count": 11,
   "metadata": {},
   "outputs": [],
   "source": [
    "ri.dropna(axis=0, subset=[\"driver_gender\"], inplace = True)"
   ]
  },
  {
   "cell_type": "code",
   "execution_count": 12,
   "metadata": {},
   "outputs": [
    {
     "data": {
      "text/plain": [
       "id                         0\n",
       "state                      0\n",
       "stop_date                  0\n",
       "stop_time                  0\n",
       "location_raw               0\n",
       "police_department          0\n",
       "driver_gender              0\n",
       "driver_age_raw             1\n",
       "driver_age              1638\n",
       "driver_race_raw            0\n",
       "driver_race                0\n",
       "violation_raw              0\n",
       "violation                  0\n",
       "search_conducted           0\n",
       "search_type_raw       462822\n",
       "search_type           462822\n",
       "contraband_found           0\n",
       "stop_outcome               0\n",
       "is_arrested                0\n",
       "stop_duration              0\n",
       "out_of_state             808\n",
       "drugs_related_stop         0\n",
       "district                   0\n",
       "dtype: int64"
      ]
     },
     "execution_count": 12,
     "metadata": {},
     "output_type": "execute_result"
    }
   ],
   "source": [
    "ri.isnull().sum()"
   ]
  },
  {
   "cell_type": "code",
   "execution_count": 13,
   "metadata": {},
   "outputs": [
    {
     "data": {
      "text/plain": [
       "(480584, 23)"
      ]
     },
     "execution_count": 13,
     "metadata": {},
     "output_type": "execute_result"
    }
   ],
   "source": [
    "ri.shape"
   ]
  },
  {
   "cell_type": "code",
   "execution_count": 14,
   "metadata": {},
   "outputs": [
    {
     "name": "stdout",
     "output_type": "stream",
     "text": [
      "<class 'pandas.core.frame.DataFrame'>\n",
      "Int64Index: 480584 entries, 0 to 509670\n",
      "Data columns (total 23 columns):\n",
      " #   Column              Non-Null Count   Dtype  \n",
      "---  ------              --------------   -----  \n",
      " 0   id                  480584 non-null  object \n",
      " 1   state               480584 non-null  object \n",
      " 2   stop_date           480584 non-null  object \n",
      " 3   stop_time           480584 non-null  object \n",
      " 4   location_raw        480584 non-null  object \n",
      " 5   police_department   480584 non-null  object \n",
      " 6   driver_gender       480584 non-null  object \n",
      " 7   driver_age_raw      480583 non-null  float64\n",
      " 8   driver_age          478946 non-null  float64\n",
      " 9   driver_race_raw     480584 non-null  object \n",
      " 10  driver_race         480584 non-null  object \n",
      " 11  violation_raw       480584 non-null  object \n",
      " 12  violation           480584 non-null  object \n",
      " 13  search_conducted    480584 non-null  object \n",
      " 14  search_type_raw     17762 non-null   object \n",
      " 15  search_type         17762 non-null   object \n",
      " 16  contraband_found    480584 non-null  bool   \n",
      " 17  stop_outcome        480584 non-null  object \n",
      " 18  is_arrested         480584 non-null  object \n",
      " 19  stop_duration       480584 non-null  object \n",
      " 20  out_of_state        479776 non-null  object \n",
      " 21  drugs_related_stop  480584 non-null  bool   \n",
      " 22  district            480584 non-null  object \n",
      "dtypes: bool(2), float64(2), object(19)\n",
      "memory usage: 81.6+ MB\n"
     ]
    }
   ],
   "source": [
    "ri.info()"
   ]
  },
  {
   "cell_type": "code",
   "execution_count": 15,
   "metadata": {},
   "outputs": [
    {
     "data": {
      "text/plain": [
       "0    False\n",
       "Name: is_arrested, dtype: object"
      ]
     },
     "execution_count": 15,
     "metadata": {},
     "output_type": "execute_result"
    }
   ],
   "source": [
    "ri[\"is_arrested\"].head(1)"
   ]
  },
  {
   "cell_type": "code",
   "execution_count": 16,
   "metadata": {},
   "outputs": [
    {
     "data": {
      "text/plain": [
       "dtype('O')"
      ]
     },
     "execution_count": 16,
     "metadata": {},
     "output_type": "execute_result"
    }
   ],
   "source": [
    "ri[\"is_arrested\"].dtype"
   ]
  },
  {
   "cell_type": "code",
   "execution_count": 17,
   "metadata": {},
   "outputs": [],
   "source": [
    "ri[\"is_arrested\"] = ri.is_arrested.astype(\"bool\")"
   ]
  },
  {
   "cell_type": "code",
   "execution_count": 18,
   "metadata": {},
   "outputs": [
    {
     "data": {
      "text/plain": [
       "0         False\n",
       "1         False\n",
       "3         False\n",
       "4         False\n",
       "5         False\n",
       "          ...  \n",
       "509666    False\n",
       "509667    False\n",
       "509668    False\n",
       "509669    False\n",
       "509670    False\n",
       "Name: is_arrested, Length: 480584, dtype: bool"
      ]
     },
     "execution_count": 18,
     "metadata": {},
     "output_type": "execute_result"
    }
   ],
   "source": [
    "ri[\"is_arrested\"] "
   ]
  },
  {
   "cell_type": "code",
   "execution_count": 19,
   "metadata": {},
   "outputs": [
    {
     "data": {
      "text/html": [
       "<div>\n",
       "<style scoped>\n",
       "    .dataframe tbody tr th:only-of-type {\n",
       "        vertical-align: middle;\n",
       "    }\n",
       "\n",
       "    .dataframe tbody tr th {\n",
       "        vertical-align: top;\n",
       "    }\n",
       "\n",
       "    .dataframe thead th {\n",
       "        text-align: right;\n",
       "    }\n",
       "</style>\n",
       "<table border=\"1\" class=\"dataframe\">\n",
       "  <thead>\n",
       "    <tr style=\"text-align: right;\">\n",
       "      <th></th>\n",
       "      <th>id</th>\n",
       "      <th>state</th>\n",
       "      <th>stop_date</th>\n",
       "      <th>stop_time</th>\n",
       "      <th>location_raw</th>\n",
       "      <th>police_department</th>\n",
       "      <th>driver_gender</th>\n",
       "      <th>driver_age_raw</th>\n",
       "      <th>driver_age</th>\n",
       "      <th>driver_race_raw</th>\n",
       "      <th>...</th>\n",
       "      <th>search_conducted</th>\n",
       "      <th>search_type_raw</th>\n",
       "      <th>search_type</th>\n",
       "      <th>contraband_found</th>\n",
       "      <th>stop_outcome</th>\n",
       "      <th>is_arrested</th>\n",
       "      <th>stop_duration</th>\n",
       "      <th>out_of_state</th>\n",
       "      <th>drugs_related_stop</th>\n",
       "      <th>district</th>\n",
       "    </tr>\n",
       "  </thead>\n",
       "  <tbody>\n",
       "    <tr>\n",
       "      <th>0</th>\n",
       "      <td>RI-2005-00001</td>\n",
       "      <td>RI</td>\n",
       "      <td>2005-01-02</td>\n",
       "      <td>01:55</td>\n",
       "      <td>Zone K1</td>\n",
       "      <td>600</td>\n",
       "      <td>M</td>\n",
       "      <td>1985.0</td>\n",
       "      <td>20.0</td>\n",
       "      <td>W</td>\n",
       "      <td>...</td>\n",
       "      <td>False</td>\n",
       "      <td>NaN</td>\n",
       "      <td>NaN</td>\n",
       "      <td>False</td>\n",
       "      <td>Citation</td>\n",
       "      <td>False</td>\n",
       "      <td>0-15 Min</td>\n",
       "      <td>False</td>\n",
       "      <td>False</td>\n",
       "      <td>Zone K1</td>\n",
       "    </tr>\n",
       "  </tbody>\n",
       "</table>\n",
       "<p>1 rows × 23 columns</p>\n",
       "</div>"
      ],
      "text/plain": [
       "              id state   stop_date stop_time location_raw police_department  \\\n",
       "0  RI-2005-00001    RI  2005-01-02     01:55      Zone K1               600   \n",
       "\n",
       "  driver_gender  driver_age_raw  driver_age driver_race_raw  ...  \\\n",
       "0             M          1985.0        20.0               W  ...   \n",
       "\n",
       "  search_conducted search_type_raw search_type contraband_found stop_outcome  \\\n",
       "0            False             NaN         NaN            False     Citation   \n",
       "\n",
       "  is_arrested  stop_duration out_of_state  drugs_related_stop district  \n",
       "0       False       0-15 Min        False               False  Zone K1  \n",
       "\n",
       "[1 rows x 23 columns]"
      ]
     },
     "execution_count": 19,
     "metadata": {},
     "output_type": "execute_result"
    }
   ],
   "source": [
    "ri.head(1)"
   ]
  },
  {
   "cell_type": "code",
   "execution_count": 20,
   "metadata": {},
   "outputs": [
    {
     "data": {
      "text/plain": [
       "dtype('O')"
      ]
     },
     "execution_count": 20,
     "metadata": {},
     "output_type": "execute_result"
    }
   ],
   "source": [
    "ri[\"stop_date\"].dtype"
   ]
  },
  {
   "cell_type": "code",
   "execution_count": 21,
   "metadata": {},
   "outputs": [
    {
     "data": {
      "text/plain": [
       "dtype('O')"
      ]
     },
     "execution_count": 21,
     "metadata": {},
     "output_type": "execute_result"
    }
   ],
   "source": [
    "ri[\"stop_time\"].dtype"
   ]
  },
  {
   "cell_type": "code",
   "execution_count": 22,
   "metadata": {},
   "outputs": [],
   "source": [
    "combined = ri[\"stop_date\"] + \" \" + ri[\"stop_time\"]"
   ]
  },
  {
   "cell_type": "code",
   "execution_count": 23,
   "metadata": {},
   "outputs": [
    {
     "data": {
      "text/plain": [
       "0         2005-01-02 01:55\n",
       "1         2005-01-02 20:30\n",
       "3         2005-01-04 12:55\n",
       "4         2005-01-06 01:30\n",
       "5         2005-01-12 08:05\n",
       "                ...       \n",
       "509666    2015-12-31 22:46\n",
       "509667    2015-12-31 22:47\n",
       "509668    2015-12-31 23:08\n",
       "509669    2015-12-31 23:44\n",
       "509670    2015-12-31 23:48\n",
       "Length: 480584, dtype: object"
      ]
     },
     "execution_count": 23,
     "metadata": {},
     "output_type": "execute_result"
    }
   ],
   "source": [
    "combined"
   ]
  },
  {
   "cell_type": "code",
   "execution_count": 24,
   "metadata": {},
   "outputs": [],
   "source": [
    "ri[\"stop_datetime\"] = pd.to_datetime(combined)"
   ]
  },
  {
   "cell_type": "code",
   "execution_count": 25,
   "metadata": {},
   "outputs": [],
   "source": [
    "ri.drop([\"stop_date\", \"stop_time\"], axis = \"columns\", inplace=True)"
   ]
  },
  {
   "cell_type": "code",
   "execution_count": 26,
   "metadata": {},
   "outputs": [
    {
     "data": {
      "text/html": [
       "<div>\n",
       "<style scoped>\n",
       "    .dataframe tbody tr th:only-of-type {\n",
       "        vertical-align: middle;\n",
       "    }\n",
       "\n",
       "    .dataframe tbody tr th {\n",
       "        vertical-align: top;\n",
       "    }\n",
       "\n",
       "    .dataframe thead th {\n",
       "        text-align: right;\n",
       "    }\n",
       "</style>\n",
       "<table border=\"1\" class=\"dataframe\">\n",
       "  <thead>\n",
       "    <tr style=\"text-align: right;\">\n",
       "      <th></th>\n",
       "      <th>id</th>\n",
       "      <th>state</th>\n",
       "      <th>location_raw</th>\n",
       "      <th>police_department</th>\n",
       "      <th>driver_gender</th>\n",
       "      <th>driver_age_raw</th>\n",
       "      <th>driver_age</th>\n",
       "      <th>driver_race_raw</th>\n",
       "      <th>driver_race</th>\n",
       "      <th>violation_raw</th>\n",
       "      <th>...</th>\n",
       "      <th>search_type_raw</th>\n",
       "      <th>search_type</th>\n",
       "      <th>contraband_found</th>\n",
       "      <th>stop_outcome</th>\n",
       "      <th>is_arrested</th>\n",
       "      <th>stop_duration</th>\n",
       "      <th>out_of_state</th>\n",
       "      <th>drugs_related_stop</th>\n",
       "      <th>district</th>\n",
       "      <th>stop_datetime</th>\n",
       "    </tr>\n",
       "  </thead>\n",
       "  <tbody>\n",
       "    <tr>\n",
       "      <th>0</th>\n",
       "      <td>RI-2005-00001</td>\n",
       "      <td>RI</td>\n",
       "      <td>Zone K1</td>\n",
       "      <td>600</td>\n",
       "      <td>M</td>\n",
       "      <td>1985.0</td>\n",
       "      <td>20.0</td>\n",
       "      <td>W</td>\n",
       "      <td>White</td>\n",
       "      <td>Speeding</td>\n",
       "      <td>...</td>\n",
       "      <td>NaN</td>\n",
       "      <td>NaN</td>\n",
       "      <td>False</td>\n",
       "      <td>Citation</td>\n",
       "      <td>False</td>\n",
       "      <td>0-15 Min</td>\n",
       "      <td>False</td>\n",
       "      <td>False</td>\n",
       "      <td>Zone K1</td>\n",
       "      <td>2005-01-02 01:55:00</td>\n",
       "    </tr>\n",
       "  </tbody>\n",
       "</table>\n",
       "<p>1 rows × 22 columns</p>\n",
       "</div>"
      ],
      "text/plain": [
       "              id state location_raw police_department driver_gender  \\\n",
       "0  RI-2005-00001    RI      Zone K1               600             M   \n",
       "\n",
       "   driver_age_raw  driver_age driver_race_raw driver_race violation_raw  ...  \\\n",
       "0          1985.0        20.0               W       White      Speeding  ...   \n",
       "\n",
       "  search_type_raw search_type contraband_found stop_outcome  is_arrested  \\\n",
       "0             NaN         NaN            False     Citation        False   \n",
       "\n",
       "  stop_duration  out_of_state drugs_related_stop district       stop_datetime  \n",
       "0      0-15 Min         False              False  Zone K1 2005-01-02 01:55:00  \n",
       "\n",
       "[1 rows x 22 columns]"
      ]
     },
     "execution_count": 26,
     "metadata": {},
     "output_type": "execute_result"
    }
   ],
   "source": [
    "ri.head(1)"
   ]
  },
  {
   "cell_type": "code",
   "execution_count": 27,
   "metadata": {},
   "outputs": [
    {
     "data": {
      "text/plain": [
       "id                            object\n",
       "state                         object\n",
       "location_raw                  object\n",
       "police_department             object\n",
       "driver_gender                 object\n",
       "driver_age_raw               float64\n",
       "driver_age                   float64\n",
       "driver_race_raw               object\n",
       "driver_race                   object\n",
       "violation_raw                 object\n",
       "violation                     object\n",
       "search_conducted              object\n",
       "search_type_raw               object\n",
       "search_type                   object\n",
       "contraband_found                bool\n",
       "stop_outcome                  object\n",
       "is_arrested                     bool\n",
       "stop_duration                 object\n",
       "out_of_state                  object\n",
       "drugs_related_stop              bool\n",
       "district                      object\n",
       "stop_datetime         datetime64[ns]\n",
       "dtype: object"
      ]
     },
     "execution_count": 27,
     "metadata": {},
     "output_type": "execute_result"
    }
   ],
   "source": [
    "ri.dtypes"
   ]
  },
  {
   "cell_type": "code",
   "execution_count": 28,
   "metadata": {},
   "outputs": [],
   "source": [
    "ri.set_index(\"stop_datetime\", inplace = True)"
   ]
  },
  {
   "cell_type": "code",
   "execution_count": 29,
   "metadata": {},
   "outputs": [
    {
     "data": {
      "text/html": [
       "<div>\n",
       "<style scoped>\n",
       "    .dataframe tbody tr th:only-of-type {\n",
       "        vertical-align: middle;\n",
       "    }\n",
       "\n",
       "    .dataframe tbody tr th {\n",
       "        vertical-align: top;\n",
       "    }\n",
       "\n",
       "    .dataframe thead th {\n",
       "        text-align: right;\n",
       "    }\n",
       "</style>\n",
       "<table border=\"1\" class=\"dataframe\">\n",
       "  <thead>\n",
       "    <tr style=\"text-align: right;\">\n",
       "      <th></th>\n",
       "      <th>id</th>\n",
       "      <th>state</th>\n",
       "      <th>location_raw</th>\n",
       "      <th>police_department</th>\n",
       "      <th>driver_gender</th>\n",
       "      <th>driver_age_raw</th>\n",
       "      <th>driver_age</th>\n",
       "      <th>driver_race_raw</th>\n",
       "      <th>driver_race</th>\n",
       "      <th>violation_raw</th>\n",
       "      <th>...</th>\n",
       "      <th>search_conducted</th>\n",
       "      <th>search_type_raw</th>\n",
       "      <th>search_type</th>\n",
       "      <th>contraband_found</th>\n",
       "      <th>stop_outcome</th>\n",
       "      <th>is_arrested</th>\n",
       "      <th>stop_duration</th>\n",
       "      <th>out_of_state</th>\n",
       "      <th>drugs_related_stop</th>\n",
       "      <th>district</th>\n",
       "    </tr>\n",
       "    <tr>\n",
       "      <th>stop_datetime</th>\n",
       "      <th></th>\n",
       "      <th></th>\n",
       "      <th></th>\n",
       "      <th></th>\n",
       "      <th></th>\n",
       "      <th></th>\n",
       "      <th></th>\n",
       "      <th></th>\n",
       "      <th></th>\n",
       "      <th></th>\n",
       "      <th></th>\n",
       "      <th></th>\n",
       "      <th></th>\n",
       "      <th></th>\n",
       "      <th></th>\n",
       "      <th></th>\n",
       "      <th></th>\n",
       "      <th></th>\n",
       "      <th></th>\n",
       "      <th></th>\n",
       "      <th></th>\n",
       "    </tr>\n",
       "  </thead>\n",
       "  <tbody>\n",
       "    <tr>\n",
       "      <th>2005-01-02 01:55:00</th>\n",
       "      <td>RI-2005-00001</td>\n",
       "      <td>RI</td>\n",
       "      <td>Zone K1</td>\n",
       "      <td>600</td>\n",
       "      <td>M</td>\n",
       "      <td>1985.0</td>\n",
       "      <td>20.0</td>\n",
       "      <td>W</td>\n",
       "      <td>White</td>\n",
       "      <td>Speeding</td>\n",
       "      <td>...</td>\n",
       "      <td>False</td>\n",
       "      <td>NaN</td>\n",
       "      <td>NaN</td>\n",
       "      <td>False</td>\n",
       "      <td>Citation</td>\n",
       "      <td>False</td>\n",
       "      <td>0-15 Min</td>\n",
       "      <td>False</td>\n",
       "      <td>False</td>\n",
       "      <td>Zone K1</td>\n",
       "    </tr>\n",
       "  </tbody>\n",
       "</table>\n",
       "<p>1 rows × 21 columns</p>\n",
       "</div>"
      ],
      "text/plain": [
       "                                id state location_raw police_department  \\\n",
       "stop_datetime                                                             \n",
       "2005-01-02 01:55:00  RI-2005-00001    RI      Zone K1               600   \n",
       "\n",
       "                    driver_gender  driver_age_raw  driver_age driver_race_raw  \\\n",
       "stop_datetime                                                                   \n",
       "2005-01-02 01:55:00             M          1985.0        20.0               W   \n",
       "\n",
       "                    driver_race violation_raw  ... search_conducted  \\\n",
       "stop_datetime                                  ...                    \n",
       "2005-01-02 01:55:00       White      Speeding  ...            False   \n",
       "\n",
       "                    search_type_raw search_type contraband_found  \\\n",
       "stop_datetime                                                      \n",
       "2005-01-02 01:55:00             NaN         NaN            False   \n",
       "\n",
       "                     stop_outcome is_arrested  stop_duration out_of_state  \\\n",
       "stop_datetime                                                               \n",
       "2005-01-02 01:55:00      Citation       False       0-15 Min        False   \n",
       "\n",
       "                    drugs_related_stop  district  \n",
       "stop_datetime                                     \n",
       "2005-01-02 01:55:00              False   Zone K1  \n",
       "\n",
       "[1 rows x 21 columns]"
      ]
     },
     "execution_count": 29,
     "metadata": {},
     "output_type": "execute_result"
    }
   ],
   "source": [
    "ri.head(1)"
   ]
  },
  {
   "cell_type": "code",
   "execution_count": 30,
   "metadata": {},
   "outputs": [
    {
     "data": {
      "text/plain": [
       "(480584, 21)"
      ]
     },
     "execution_count": 30,
     "metadata": {},
     "output_type": "execute_result"
    }
   ],
   "source": [
    "ri.shape"
   ]
  },
  {
   "cell_type": "code",
   "execution_count": 31,
   "metadata": {},
   "outputs": [
    {
     "data": {
      "text/plain": [
       "Index(['id', 'state', 'location_raw', 'police_department', 'driver_gender',\n",
       "       'driver_age_raw', 'driver_age', 'driver_race_raw', 'driver_race',\n",
       "       'violation_raw', 'violation', 'search_conducted', 'search_type_raw',\n",
       "       'search_type', 'contraband_found', 'stop_outcome', 'is_arrested',\n",
       "       'stop_duration', 'out_of_state', 'drugs_related_stop', 'district'],\n",
       "      dtype='object')"
      ]
     },
     "execution_count": 31,
     "metadata": {},
     "output_type": "execute_result"
    }
   ],
   "source": [
    "ri.columns"
   ]
  },
  {
   "cell_type": "markdown",
   "metadata": {},
   "source": [
    "**INSTRUCTIONS**\n",
    "\n",
    "*   Count the unique values in the ``violation`` column, to see what violations are being committed by all drivers.\n",
    "*   Express the violation counts as proportions of the total."
   ]
  },
  {
   "cell_type": "code",
   "execution_count": 36,
   "metadata": {},
   "outputs": [
    {
     "data": {
      "text/plain": [
       "Speeding               268736\n",
       "Moving violation        90228\n",
       "Equipment               61250\n",
       "Other                   24216\n",
       "Registration/plates     19830\n",
       "Seat belt               16324\n",
       "Name: violation, dtype: int64"
      ]
     },
     "execution_count": 36,
     "metadata": {},
     "output_type": "execute_result"
    }
   ],
   "source": [
    "# Count the unique values in the \"violation\"\n",
    "ri[\"violation\"].value_counts()"
   ]
  },
  {
   "cell_type": "code",
   "execution_count": 97,
   "metadata": {},
   "outputs": [
    {
     "data": {
      "text/plain": [
       "Speeding               268736\n",
       "Moving violation        90228\n",
       "Equipment               61250\n",
       "Other                   24216\n",
       "Registration/plates     19830\n",
       "Seat belt               16324\n",
       "Name: violation, dtype: int64"
      ]
     },
     "execution_count": 97,
     "metadata": {},
     "output_type": "execute_result"
    }
   ],
   "source": [
    "# Count the unique values in the \"violation\"   ----> Other olarak Nan value değerleri de getirdik bu şekilde.\n",
    "ri[\"violation\"].value_counts(dropna=False)"
   ]
  },
  {
   "cell_type": "code",
   "execution_count": 37,
   "metadata": {},
   "outputs": [
    {
     "data": {
      "text/plain": [
       "Speeding               0.559186\n",
       "Moving violation       0.187747\n",
       "Equipment              0.127449\n",
       "Other                  0.050389\n",
       "Registration/plates    0.041262\n",
       "Seat belt              0.033967\n",
       "Name: violation, dtype: float64"
      ]
     },
     "execution_count": 37,
     "metadata": {},
     "output_type": "execute_result"
    }
   ],
   "source": [
    "# Express the violation counts as proportions   ---> normalize dediğimiz zaman değerleri 0-1 arasına sıkıştırıyor. Değerler toplamı 1 olmalı\n",
    "ri[\"violation\"].value_counts(normalize=True)"
   ]
  },
  {
   "cell_type": "markdown",
   "metadata": {},
   "source": [
    "***"
   ]
  },
  {
   "cell_type": "markdown",
   "metadata": {},
   "source": [
    "## Comparing violations by gender"
   ]
  },
  {
   "cell_type": "markdown",
   "metadata": {},
   "source": [
    "The question we're trying to answer is whether male and female drivers tend to commit different types of traffic violations.\n",
    "\n",
    "You'll first create a ``DataFrame`` for each gender, and then analyze the ``violations`` in each ``DataFrame`` separately."
   ]
  },
  {
   "cell_type": "markdown",
   "metadata": {},
   "source": [
    "**INSTRUCTIONS**\n",
    "\n",
    "*   Create a ``DataFrame``, female, that only contains rows in which ``driver_gender`` is ``'F'``.\n",
    "*   Create a ``DataFrame``, male, that only contains rows in which ``driver_gender`` is ``'M'``.\n",
    "*   Count the ``violations`` committed by female drivers and express them as proportions.\n",
    "*   Count the violations committed by male drivers and express them as proportions."
   ]
  },
  {
   "cell_type": "code",
   "execution_count": 38,
   "metadata": {},
   "outputs": [
    {
     "data": {
      "text/html": [
       "<div>\n",
       "<style scoped>\n",
       "    .dataframe tbody tr th:only-of-type {\n",
       "        vertical-align: middle;\n",
       "    }\n",
       "\n",
       "    .dataframe tbody tr th {\n",
       "        vertical-align: top;\n",
       "    }\n",
       "\n",
       "    .dataframe thead th {\n",
       "        text-align: right;\n",
       "    }\n",
       "</style>\n",
       "<table border=\"1\" class=\"dataframe\">\n",
       "  <thead>\n",
       "    <tr style=\"text-align: right;\">\n",
       "      <th></th>\n",
       "      <th>id</th>\n",
       "      <th>state</th>\n",
       "      <th>location_raw</th>\n",
       "      <th>police_department</th>\n",
       "      <th>driver_gender</th>\n",
       "      <th>driver_age_raw</th>\n",
       "      <th>driver_age</th>\n",
       "      <th>driver_race_raw</th>\n",
       "      <th>driver_race</th>\n",
       "      <th>violation_raw</th>\n",
       "      <th>...</th>\n",
       "      <th>search_conducted</th>\n",
       "      <th>search_type_raw</th>\n",
       "      <th>search_type</th>\n",
       "      <th>contraband_found</th>\n",
       "      <th>stop_outcome</th>\n",
       "      <th>is_arrested</th>\n",
       "      <th>stop_duration</th>\n",
       "      <th>out_of_state</th>\n",
       "      <th>drugs_related_stop</th>\n",
       "      <th>district</th>\n",
       "    </tr>\n",
       "    <tr>\n",
       "      <th>stop_datetime</th>\n",
       "      <th></th>\n",
       "      <th></th>\n",
       "      <th></th>\n",
       "      <th></th>\n",
       "      <th></th>\n",
       "      <th></th>\n",
       "      <th></th>\n",
       "      <th></th>\n",
       "      <th></th>\n",
       "      <th></th>\n",
       "      <th></th>\n",
       "      <th></th>\n",
       "      <th></th>\n",
       "      <th></th>\n",
       "      <th></th>\n",
       "      <th></th>\n",
       "      <th></th>\n",
       "      <th></th>\n",
       "      <th></th>\n",
       "      <th></th>\n",
       "      <th></th>\n",
       "    </tr>\n",
       "  </thead>\n",
       "  <tbody>\n",
       "    <tr>\n",
       "      <th>2005-01-02 01:55:00</th>\n",
       "      <td>RI-2005-00001</td>\n",
       "      <td>RI</td>\n",
       "      <td>Zone K1</td>\n",
       "      <td>600</td>\n",
       "      <td>M</td>\n",
       "      <td>1985.0</td>\n",
       "      <td>20.0</td>\n",
       "      <td>W</td>\n",
       "      <td>White</td>\n",
       "      <td>Speeding</td>\n",
       "      <td>...</td>\n",
       "      <td>False</td>\n",
       "      <td>NaN</td>\n",
       "      <td>NaN</td>\n",
       "      <td>False</td>\n",
       "      <td>Citation</td>\n",
       "      <td>False</td>\n",
       "      <td>0-15 Min</td>\n",
       "      <td>False</td>\n",
       "      <td>False</td>\n",
       "      <td>Zone K1</td>\n",
       "    </tr>\n",
       "  </tbody>\n",
       "</table>\n",
       "<p>1 rows × 21 columns</p>\n",
       "</div>"
      ],
      "text/plain": [
       "                                id state location_raw police_department  \\\n",
       "stop_datetime                                                             \n",
       "2005-01-02 01:55:00  RI-2005-00001    RI      Zone K1               600   \n",
       "\n",
       "                    driver_gender  driver_age_raw  driver_age driver_race_raw  \\\n",
       "stop_datetime                                                                   \n",
       "2005-01-02 01:55:00             M          1985.0        20.0               W   \n",
       "\n",
       "                    driver_race violation_raw  ... search_conducted  \\\n",
       "stop_datetime                                  ...                    \n",
       "2005-01-02 01:55:00       White      Speeding  ...            False   \n",
       "\n",
       "                    search_type_raw search_type contraband_found  \\\n",
       "stop_datetime                                                      \n",
       "2005-01-02 01:55:00             NaN         NaN            False   \n",
       "\n",
       "                     stop_outcome is_arrested  stop_duration out_of_state  \\\n",
       "stop_datetime                                                               \n",
       "2005-01-02 01:55:00      Citation       False       0-15 Min        False   \n",
       "\n",
       "                    drugs_related_stop  district  \n",
       "stop_datetime                                     \n",
       "2005-01-02 01:55:00              False   Zone K1  \n",
       "\n",
       "[1 rows x 21 columns]"
      ]
     },
     "execution_count": 38,
     "metadata": {},
     "output_type": "execute_result"
    }
   ],
   "source": [
    "ri.head(1)"
   ]
  },
  {
   "cell_type": "code",
   "execution_count": 100,
   "metadata": {},
   "outputs": [
    {
     "data": {
      "text/html": [
       "<div>\n",
       "<style scoped>\n",
       "    .dataframe tbody tr th:only-of-type {\n",
       "        vertical-align: middle;\n",
       "    }\n",
       "\n",
       "    .dataframe tbody tr th {\n",
       "        vertical-align: top;\n",
       "    }\n",
       "\n",
       "    .dataframe thead th {\n",
       "        text-align: right;\n",
       "    }\n",
       "</style>\n",
       "<table border=\"1\" class=\"dataframe\">\n",
       "  <thead>\n",
       "    <tr style=\"text-align: right;\">\n",
       "      <th></th>\n",
       "      <th>id</th>\n",
       "      <th>state</th>\n",
       "      <th>location_raw</th>\n",
       "      <th>police_department</th>\n",
       "      <th>driver_gender</th>\n",
       "      <th>driver_age_raw</th>\n",
       "      <th>driver_age</th>\n",
       "      <th>driver_race_raw</th>\n",
       "      <th>driver_race</th>\n",
       "      <th>violation_raw</th>\n",
       "      <th>...</th>\n",
       "      <th>search_type_raw</th>\n",
       "      <th>search_type</th>\n",
       "      <th>contraband_found</th>\n",
       "      <th>stop_outcome</th>\n",
       "      <th>is_arrested</th>\n",
       "      <th>stop_duration</th>\n",
       "      <th>out_of_state</th>\n",
       "      <th>drugs_related_stop</th>\n",
       "      <th>district</th>\n",
       "      <th>frisk</th>\n",
       "    </tr>\n",
       "    <tr>\n",
       "      <th>stop_datetime</th>\n",
       "      <th></th>\n",
       "      <th></th>\n",
       "      <th></th>\n",
       "      <th></th>\n",
       "      <th></th>\n",
       "      <th></th>\n",
       "      <th></th>\n",
       "      <th></th>\n",
       "      <th></th>\n",
       "      <th></th>\n",
       "      <th></th>\n",
       "      <th></th>\n",
       "      <th></th>\n",
       "      <th></th>\n",
       "      <th></th>\n",
       "      <th></th>\n",
       "      <th></th>\n",
       "      <th></th>\n",
       "      <th></th>\n",
       "      <th></th>\n",
       "      <th></th>\n",
       "    </tr>\n",
       "  </thead>\n",
       "  <tbody>\n",
       "    <tr>\n",
       "      <th>2005-02-24 01:20:00</th>\n",
       "      <td>RI-2005-00016</td>\n",
       "      <td>RI</td>\n",
       "      <td>Zone X3</td>\n",
       "      <td>200</td>\n",
       "      <td>F</td>\n",
       "      <td>1983.0</td>\n",
       "      <td>22.0</td>\n",
       "      <td>W</td>\n",
       "      <td>White</td>\n",
       "      <td>Speeding</td>\n",
       "      <td>...</td>\n",
       "      <td>NaN</td>\n",
       "      <td>NaN</td>\n",
       "      <td>False</td>\n",
       "      <td>Citation</td>\n",
       "      <td>False</td>\n",
       "      <td>0-15 Min</td>\n",
       "      <td>True</td>\n",
       "      <td>False</td>\n",
       "      <td>Zone X3</td>\n",
       "      <td>False</td>\n",
       "    </tr>\n",
       "  </tbody>\n",
       "</table>\n",
       "<p>1 rows × 22 columns</p>\n",
       "</div>"
      ],
      "text/plain": [
       "                                id state location_raw police_department  \\\n",
       "stop_datetime                                                             \n",
       "2005-02-24 01:20:00  RI-2005-00016    RI      Zone X3               200   \n",
       "\n",
       "                    driver_gender  driver_age_raw  driver_age driver_race_raw  \\\n",
       "stop_datetime                                                                   \n",
       "2005-02-24 01:20:00             F          1983.0        22.0               W   \n",
       "\n",
       "                    driver_race violation_raw  ... search_type_raw  \\\n",
       "stop_datetime                                  ...                   \n",
       "2005-02-24 01:20:00       White      Speeding  ...             NaN   \n",
       "\n",
       "                     search_type contraband_found stop_outcome  is_arrested  \\\n",
       "stop_datetime                                                                 \n",
       "2005-02-24 01:20:00          NaN            False     Citation        False   \n",
       "\n",
       "                    stop_duration  out_of_state drugs_related_stop district  \\\n",
       "stop_datetime                                                                 \n",
       "2005-02-24 01:20:00      0-15 Min          True              False  Zone X3   \n",
       "\n",
       "                     frisk  \n",
       "stop_datetime               \n",
       "2005-02-24 01:20:00  False  \n",
       "\n",
       "[1 rows x 22 columns]"
      ]
     },
     "execution_count": 100,
     "metadata": {},
     "output_type": "execute_result"
    }
   ],
   "source": [
    "ri_Female = ri[ri['driver_gender'] == 'F']\n",
    "ri_Female.head(1)"
   ]
  },
  {
   "cell_type": "code",
   "execution_count": 99,
   "metadata": {},
   "outputs": [
    {
     "data": {
      "text/html": [
       "<div>\n",
       "<style scoped>\n",
       "    .dataframe tbody tr th:only-of-type {\n",
       "        vertical-align: middle;\n",
       "    }\n",
       "\n",
       "    .dataframe tbody tr th {\n",
       "        vertical-align: top;\n",
       "    }\n",
       "\n",
       "    .dataframe thead th {\n",
       "        text-align: right;\n",
       "    }\n",
       "</style>\n",
       "<table border=\"1\" class=\"dataframe\">\n",
       "  <thead>\n",
       "    <tr style=\"text-align: right;\">\n",
       "      <th></th>\n",
       "      <th>id</th>\n",
       "      <th>state</th>\n",
       "      <th>location_raw</th>\n",
       "      <th>police_department</th>\n",
       "      <th>driver_gender</th>\n",
       "      <th>driver_age_raw</th>\n",
       "      <th>driver_age</th>\n",
       "      <th>driver_race_raw</th>\n",
       "      <th>driver_race</th>\n",
       "      <th>violation_raw</th>\n",
       "      <th>...</th>\n",
       "      <th>search_type_raw</th>\n",
       "      <th>search_type</th>\n",
       "      <th>contraband_found</th>\n",
       "      <th>stop_outcome</th>\n",
       "      <th>is_arrested</th>\n",
       "      <th>stop_duration</th>\n",
       "      <th>out_of_state</th>\n",
       "      <th>drugs_related_stop</th>\n",
       "      <th>district</th>\n",
       "      <th>frisk</th>\n",
       "    </tr>\n",
       "    <tr>\n",
       "      <th>stop_datetime</th>\n",
       "      <th></th>\n",
       "      <th></th>\n",
       "      <th></th>\n",
       "      <th></th>\n",
       "      <th></th>\n",
       "      <th></th>\n",
       "      <th></th>\n",
       "      <th></th>\n",
       "      <th></th>\n",
       "      <th></th>\n",
       "      <th></th>\n",
       "      <th></th>\n",
       "      <th></th>\n",
       "      <th></th>\n",
       "      <th></th>\n",
       "      <th></th>\n",
       "      <th></th>\n",
       "      <th></th>\n",
       "      <th></th>\n",
       "      <th></th>\n",
       "      <th></th>\n",
       "    </tr>\n",
       "  </thead>\n",
       "  <tbody>\n",
       "    <tr>\n",
       "      <th>2005-01-02 01:55:00</th>\n",
       "      <td>RI-2005-00001</td>\n",
       "      <td>RI</td>\n",
       "      <td>Zone K1</td>\n",
       "      <td>600</td>\n",
       "      <td>M</td>\n",
       "      <td>1985.0</td>\n",
       "      <td>20.0</td>\n",
       "      <td>W</td>\n",
       "      <td>White</td>\n",
       "      <td>Speeding</td>\n",
       "      <td>...</td>\n",
       "      <td>NaN</td>\n",
       "      <td>NaN</td>\n",
       "      <td>False</td>\n",
       "      <td>Citation</td>\n",
       "      <td>False</td>\n",
       "      <td>0-15 Min</td>\n",
       "      <td>False</td>\n",
       "      <td>False</td>\n",
       "      <td>Zone K1</td>\n",
       "      <td>False</td>\n",
       "    </tr>\n",
       "  </tbody>\n",
       "</table>\n",
       "<p>1 rows × 22 columns</p>\n",
       "</div>"
      ],
      "text/plain": [
       "                                id state location_raw police_department  \\\n",
       "stop_datetime                                                             \n",
       "2005-01-02 01:55:00  RI-2005-00001    RI      Zone K1               600   \n",
       "\n",
       "                    driver_gender  driver_age_raw  driver_age driver_race_raw  \\\n",
       "stop_datetime                                                                   \n",
       "2005-01-02 01:55:00             M          1985.0        20.0               W   \n",
       "\n",
       "                    driver_race violation_raw  ... search_type_raw  \\\n",
       "stop_datetime                                  ...                   \n",
       "2005-01-02 01:55:00       White      Speeding  ...             NaN   \n",
       "\n",
       "                     search_type contraband_found stop_outcome  is_arrested  \\\n",
       "stop_datetime                                                                 \n",
       "2005-01-02 01:55:00          NaN            False     Citation        False   \n",
       "\n",
       "                    stop_duration  out_of_state drugs_related_stop district  \\\n",
       "stop_datetime                                                                 \n",
       "2005-01-02 01:55:00      0-15 Min         False              False  Zone K1   \n",
       "\n",
       "                     frisk  \n",
       "stop_datetime               \n",
       "2005-01-02 01:55:00  False  \n",
       "\n",
       "[1 rows x 22 columns]"
      ]
     },
     "execution_count": 99,
     "metadata": {},
     "output_type": "execute_result"
    }
   ],
   "source": [
    "ri_Male = ri[ri['driver_gender'] == 'M']\n",
    "ri_Male.head(1)"
   ]
  },
  {
   "cell_type": "code",
   "execution_count": 101,
   "metadata": {},
   "outputs": [
    {
     "data": {
      "text/plain": [
       "Speeding               182538\n",
       "Moving violation        72317\n",
       "Equipment               47211\n",
       "Other                   20425\n",
       "Registration/plates     14181\n",
       "Seat belt               12774\n",
       "Name: violation, dtype: int64"
      ]
     },
     "execution_count": 101,
     "metadata": {},
     "output_type": "execute_result"
    }
   ],
   "source": [
    "ri_Male[\"violation\"].value_counts()"
   ]
  },
  {
   "cell_type": "code",
   "execution_count": 102,
   "metadata": {},
   "outputs": [
    {
     "data": {
      "text/plain": [
       "Speeding               0.522364\n",
       "Moving violation       0.206948\n",
       "Equipment              0.135102\n",
       "Other                  0.058450\n",
       "Registration/plates    0.040581\n",
       "Seat belt              0.036555\n",
       "Name: violation, dtype: float64"
      ]
     },
     "execution_count": 102,
     "metadata": {},
     "output_type": "execute_result"
    }
   ],
   "source": [
    "ri_Male[\"violation\"].value_counts(normalize=True)"
   ]
  },
  {
   "cell_type": "code",
   "execution_count": 106,
   "metadata": {},
   "outputs": [
    {
     "data": {
      "text/plain": [
       "Speeding               86198\n",
       "Moving violation       17911\n",
       "Equipment              14039\n",
       "Registration/plates     5649\n",
       "Other                   3791\n",
       "Seat belt               3550\n",
       "Name: violation, dtype: int64"
      ]
     },
     "execution_count": 106,
     "metadata": {},
     "output_type": "execute_result"
    }
   ],
   "source": [
    "ri_Female[\"violation\"].value_counts()"
   ]
  },
  {
   "cell_type": "code",
   "execution_count": 107,
   "metadata": {},
   "outputs": [
    {
     "data": {
      "text/plain": [
       "Speeding               0.657308\n",
       "Moving violation       0.136581\n",
       "Equipment              0.107055\n",
       "Registration/plates    0.043077\n",
       "Other                  0.028908\n",
       "Seat belt              0.027071\n",
       "Name: violation, dtype: float64"
      ]
     },
     "execution_count": 107,
     "metadata": {},
     "output_type": "execute_result"
    }
   ],
   "source": [
    "ri_Female[\"violation\"].value_counts(normalize=True)"
   ]
  },
  {
   "cell_type": "markdown",
   "metadata": {},
   "source": [
    "***"
   ]
  },
  {
   "cell_type": "markdown",
   "metadata": {},
   "source": [
    "## Comparing speeding outcomes by gender"
   ]
  },
  {
   "cell_type": "markdown",
   "metadata": {},
   "source": [
    "When a driver is pulled over for speeding, many people believe that gender has an impact on whether the driver will receive a ticket or a warning. Can you find evidence of this in the dataset?\n",
    "\n",
    "First, you'll create two ``DataFrames`` of drivers who were stopped for ``speeding``: one containing ***females*** and the other containing ***males***.\n",
    "\n",
    "Then, for each **gender**, you'll use the ``stop_outcome`` column to calculate what percentage of stops resulted in a ``\"Citation\"`` (meaning a ticket) versus a ``\"Warning\"``."
   ]
  },
  {
   "cell_type": "markdown",
   "metadata": {},
   "source": [
    "**INSTRUCTIONS**\n",
    "\n",
    "*   Create a ``DataFrame``, ``female_and_speeding``, that only includes female drivers who were stopped for speeding.\n",
    "*   Create a ``DataFrame``, ``male_and_speeding``, that only includes male drivers who were stopped for speeding.\n",
    "*   Count the **stop outcomes** for the female drivers and express them as proportions.\n",
    "*   Count the **stop outcomes** for the male drivers and express them as proportions."
   ]
  },
  {
   "cell_type": "code",
   "execution_count": 110,
   "metadata": {},
   "outputs": [
    {
     "data": {
      "text/html": [
       "<div>\n",
       "<style scoped>\n",
       "    .dataframe tbody tr th:only-of-type {\n",
       "        vertical-align: middle;\n",
       "    }\n",
       "\n",
       "    .dataframe tbody tr th {\n",
       "        vertical-align: top;\n",
       "    }\n",
       "\n",
       "    .dataframe thead th {\n",
       "        text-align: right;\n",
       "    }\n",
       "</style>\n",
       "<table border=\"1\" class=\"dataframe\">\n",
       "  <thead>\n",
       "    <tr style=\"text-align: right;\">\n",
       "      <th></th>\n",
       "      <th>id</th>\n",
       "      <th>state</th>\n",
       "      <th>location_raw</th>\n",
       "      <th>police_department</th>\n",
       "      <th>driver_gender</th>\n",
       "      <th>driver_age_raw</th>\n",
       "      <th>driver_age</th>\n",
       "      <th>driver_race_raw</th>\n",
       "      <th>driver_race</th>\n",
       "      <th>violation_raw</th>\n",
       "      <th>...</th>\n",
       "      <th>search_type_raw</th>\n",
       "      <th>search_type</th>\n",
       "      <th>contraband_found</th>\n",
       "      <th>stop_outcome</th>\n",
       "      <th>is_arrested</th>\n",
       "      <th>stop_duration</th>\n",
       "      <th>out_of_state</th>\n",
       "      <th>drugs_related_stop</th>\n",
       "      <th>district</th>\n",
       "      <th>frisk</th>\n",
       "    </tr>\n",
       "    <tr>\n",
       "      <th>stop_datetime</th>\n",
       "      <th></th>\n",
       "      <th></th>\n",
       "      <th></th>\n",
       "      <th></th>\n",
       "      <th></th>\n",
       "      <th></th>\n",
       "      <th></th>\n",
       "      <th></th>\n",
       "      <th></th>\n",
       "      <th></th>\n",
       "      <th></th>\n",
       "      <th></th>\n",
       "      <th></th>\n",
       "      <th></th>\n",
       "      <th></th>\n",
       "      <th></th>\n",
       "      <th></th>\n",
       "      <th></th>\n",
       "      <th></th>\n",
       "      <th></th>\n",
       "      <th></th>\n",
       "    </tr>\n",
       "  </thead>\n",
       "  <tbody>\n",
       "    <tr>\n",
       "      <th>2005-02-24 01:20:00</th>\n",
       "      <td>RI-2005-00016</td>\n",
       "      <td>RI</td>\n",
       "      <td>Zone X3</td>\n",
       "      <td>200</td>\n",
       "      <td>F</td>\n",
       "      <td>1983.0</td>\n",
       "      <td>22.0</td>\n",
       "      <td>W</td>\n",
       "      <td>White</td>\n",
       "      <td>Speeding</td>\n",
       "      <td>...</td>\n",
       "      <td>NaN</td>\n",
       "      <td>NaN</td>\n",
       "      <td>False</td>\n",
       "      <td>Citation</td>\n",
       "      <td>False</td>\n",
       "      <td>0-15 Min</td>\n",
       "      <td>True</td>\n",
       "      <td>False</td>\n",
       "      <td>Zone X3</td>\n",
       "      <td>False</td>\n",
       "    </tr>\n",
       "  </tbody>\n",
       "</table>\n",
       "<p>1 rows × 22 columns</p>\n",
       "</div>"
      ],
      "text/plain": [
       "                                id state location_raw police_department  \\\n",
       "stop_datetime                                                             \n",
       "2005-02-24 01:20:00  RI-2005-00016    RI      Zone X3               200   \n",
       "\n",
       "                    driver_gender  driver_age_raw  driver_age driver_race_raw  \\\n",
       "stop_datetime                                                                   \n",
       "2005-02-24 01:20:00             F          1983.0        22.0               W   \n",
       "\n",
       "                    driver_race violation_raw  ... search_type_raw  \\\n",
       "stop_datetime                                  ...                   \n",
       "2005-02-24 01:20:00       White      Speeding  ...             NaN   \n",
       "\n",
       "                     search_type contraband_found stop_outcome  is_arrested  \\\n",
       "stop_datetime                                                                 \n",
       "2005-02-24 01:20:00          NaN            False     Citation        False   \n",
       "\n",
       "                    stop_duration  out_of_state drugs_related_stop district  \\\n",
       "stop_datetime                                                                 \n",
       "2005-02-24 01:20:00      0-15 Min          True              False  Zone X3   \n",
       "\n",
       "                     frisk  \n",
       "stop_datetime               \n",
       "2005-02-24 01:20:00  False  \n",
       "\n",
       "[1 rows x 22 columns]"
      ]
     },
     "execution_count": 110,
     "metadata": {},
     "output_type": "execute_result"
    }
   ],
   "source": [
    "ri_Female_speeding = ri_Female[ri_Female['violation'] == 'Speeding']\n",
    "ri_Female_speeding.head(1)"
   ]
  },
  {
   "cell_type": "code",
   "execution_count": 111,
   "metadata": {},
   "outputs": [
    {
     "data": {
      "text/html": [
       "<div>\n",
       "<style scoped>\n",
       "    .dataframe tbody tr th:only-of-type {\n",
       "        vertical-align: middle;\n",
       "    }\n",
       "\n",
       "    .dataframe tbody tr th {\n",
       "        vertical-align: top;\n",
       "    }\n",
       "\n",
       "    .dataframe thead th {\n",
       "        text-align: right;\n",
       "    }\n",
       "</style>\n",
       "<table border=\"1\" class=\"dataframe\">\n",
       "  <thead>\n",
       "    <tr style=\"text-align: right;\">\n",
       "      <th></th>\n",
       "      <th>id</th>\n",
       "      <th>state</th>\n",
       "      <th>location_raw</th>\n",
       "      <th>police_department</th>\n",
       "      <th>driver_gender</th>\n",
       "      <th>driver_age_raw</th>\n",
       "      <th>driver_age</th>\n",
       "      <th>driver_race_raw</th>\n",
       "      <th>driver_race</th>\n",
       "      <th>violation_raw</th>\n",
       "      <th>...</th>\n",
       "      <th>search_type_raw</th>\n",
       "      <th>search_type</th>\n",
       "      <th>contraband_found</th>\n",
       "      <th>stop_outcome</th>\n",
       "      <th>is_arrested</th>\n",
       "      <th>stop_duration</th>\n",
       "      <th>out_of_state</th>\n",
       "      <th>drugs_related_stop</th>\n",
       "      <th>district</th>\n",
       "      <th>frisk</th>\n",
       "    </tr>\n",
       "    <tr>\n",
       "      <th>stop_datetime</th>\n",
       "      <th></th>\n",
       "      <th></th>\n",
       "      <th></th>\n",
       "      <th></th>\n",
       "      <th></th>\n",
       "      <th></th>\n",
       "      <th></th>\n",
       "      <th></th>\n",
       "      <th></th>\n",
       "      <th></th>\n",
       "      <th></th>\n",
       "      <th></th>\n",
       "      <th></th>\n",
       "      <th></th>\n",
       "      <th></th>\n",
       "      <th></th>\n",
       "      <th></th>\n",
       "      <th></th>\n",
       "      <th></th>\n",
       "      <th></th>\n",
       "      <th></th>\n",
       "    </tr>\n",
       "  </thead>\n",
       "  <tbody>\n",
       "    <tr>\n",
       "      <th>2005-01-02 01:55:00</th>\n",
       "      <td>RI-2005-00001</td>\n",
       "      <td>RI</td>\n",
       "      <td>Zone K1</td>\n",
       "      <td>600</td>\n",
       "      <td>M</td>\n",
       "      <td>1985.0</td>\n",
       "      <td>20.0</td>\n",
       "      <td>W</td>\n",
       "      <td>White</td>\n",
       "      <td>Speeding</td>\n",
       "      <td>...</td>\n",
       "      <td>NaN</td>\n",
       "      <td>NaN</td>\n",
       "      <td>False</td>\n",
       "      <td>Citation</td>\n",
       "      <td>False</td>\n",
       "      <td>0-15 Min</td>\n",
       "      <td>False</td>\n",
       "      <td>False</td>\n",
       "      <td>Zone K1</td>\n",
       "      <td>False</td>\n",
       "    </tr>\n",
       "  </tbody>\n",
       "</table>\n",
       "<p>1 rows × 22 columns</p>\n",
       "</div>"
      ],
      "text/plain": [
       "                                id state location_raw police_department  \\\n",
       "stop_datetime                                                             \n",
       "2005-01-02 01:55:00  RI-2005-00001    RI      Zone K1               600   \n",
       "\n",
       "                    driver_gender  driver_age_raw  driver_age driver_race_raw  \\\n",
       "stop_datetime                                                                   \n",
       "2005-01-02 01:55:00             M          1985.0        20.0               W   \n",
       "\n",
       "                    driver_race violation_raw  ... search_type_raw  \\\n",
       "stop_datetime                                  ...                   \n",
       "2005-01-02 01:55:00       White      Speeding  ...             NaN   \n",
       "\n",
       "                     search_type contraband_found stop_outcome  is_arrested  \\\n",
       "stop_datetime                                                                 \n",
       "2005-01-02 01:55:00          NaN            False     Citation        False   \n",
       "\n",
       "                    stop_duration  out_of_state drugs_related_stop district  \\\n",
       "stop_datetime                                                                 \n",
       "2005-01-02 01:55:00      0-15 Min         False              False  Zone K1   \n",
       "\n",
       "                     frisk  \n",
       "stop_datetime               \n",
       "2005-01-02 01:55:00  False  \n",
       "\n",
       "[1 rows x 22 columns]"
      ]
     },
     "execution_count": 111,
     "metadata": {},
     "output_type": "execute_result"
    }
   ],
   "source": [
    "ri_Male_speeding = ri_Male[ri_Male['violation'] == 'Speeding']\n",
    "ri_Male_speeding.head(1)"
   ]
  },
  {
   "cell_type": "code",
   "execution_count": 112,
   "metadata": {},
   "outputs": [
    {
     "data": {
      "text/plain": [
       "Citation            82168\n",
       "Warning              3362\n",
       "Arrest Driver         456\n",
       "Arrest Passenger       89\n",
       "N/D                    78\n",
       "No Action              45\n",
       "Name: stop_outcome, dtype: int64"
      ]
     },
     "execution_count": 112,
     "metadata": {},
     "output_type": "execute_result"
    }
   ],
   "source": [
    "ri_Female_speeding[\"stop_outcome\"].value_counts()"
   ]
  },
  {
   "cell_type": "code",
   "execution_count": 116,
   "metadata": {},
   "outputs": [
    {
     "data": {
      "text/plain": [
       "Citation            0.953247\n",
       "Warning             0.039003\n",
       "Arrest Driver       0.005290\n",
       "Arrest Passenger    0.001033\n",
       "N/D                 0.000905\n",
       "No Action           0.000522\n",
       "Name: stop_outcome, dtype: float64"
      ]
     },
     "execution_count": 116,
     "metadata": {},
     "output_type": "execute_result"
    }
   ],
   "source": [
    "ri_Female_speeding[\"stop_outcome\"].value_counts(normalize=True)"
   ]
  },
  {
   "cell_type": "code",
   "execution_count": 117,
   "metadata": {},
   "outputs": [
    {
     "data": {
      "text/plain": [
       "Citation            172432\n",
       "Warning               6587\n",
       "Arrest Driver         2878\n",
       "Arrest Passenger       231\n",
       "N/D                    216\n",
       "No Action              194\n",
       "Name: stop_outcome, dtype: int64"
      ]
     },
     "execution_count": 117,
     "metadata": {},
     "output_type": "execute_result"
    }
   ],
   "source": [
    "ri_Male_speeding[\"stop_outcome\"].value_counts()"
   ]
  },
  {
   "cell_type": "code",
   "execution_count": 118,
   "metadata": {},
   "outputs": [
    {
     "data": {
      "text/plain": [
       "Citation            0.944636\n",
       "Warning             0.036086\n",
       "Arrest Driver       0.015767\n",
       "Arrest Passenger    0.001265\n",
       "N/D                 0.001183\n",
       "No Action           0.001063\n",
       "Name: stop_outcome, dtype: float64"
      ]
     },
     "execution_count": 118,
     "metadata": {},
     "output_type": "execute_result"
    }
   ],
   "source": [
    "ri_Male_speeding[\"stop_outcome\"].value_counts(normalize=True)"
   ]
  },
  {
   "cell_type": "markdown",
   "metadata": {},
   "source": [
    "***"
   ]
  },
  {
   "cell_type": "markdown",
   "metadata": {},
   "source": [
    "## Calculating the search rate"
   ]
  },
  {
   "cell_type": "markdown",
   "metadata": {},
   "source": [
    "During a traffic stop, the police officer sometimes conducts a search of the vehicle. In this exercise, you'll calculate the percentage of all stops that result in a vehicle search, also known as the **search rate**."
   ]
  },
  {
   "cell_type": "markdown",
   "metadata": {},
   "source": [
    "**INSTRUCTIONS**\n",
    "\n",
    "*   Check the data type of ``search_conducted`` to confirm that it's a ``Boolean Series``.\n",
    "*   Calculate the search rate by counting the ``Series`` values and expressing them as proportions.\n",
    "*   Calculate the search rate by taking the mean of the ``Series``. (It should match the proportion of ``True`` values calculated above.)"
   ]
  },
  {
   "cell_type": "code",
   "execution_count": 119,
   "metadata": {},
   "outputs": [
    {
     "data": {
      "text/html": [
       "<div>\n",
       "<style scoped>\n",
       "    .dataframe tbody tr th:only-of-type {\n",
       "        vertical-align: middle;\n",
       "    }\n",
       "\n",
       "    .dataframe tbody tr th {\n",
       "        vertical-align: top;\n",
       "    }\n",
       "\n",
       "    .dataframe thead th {\n",
       "        text-align: right;\n",
       "    }\n",
       "</style>\n",
       "<table border=\"1\" class=\"dataframe\">\n",
       "  <thead>\n",
       "    <tr style=\"text-align: right;\">\n",
       "      <th></th>\n",
       "      <th>id</th>\n",
       "      <th>state</th>\n",
       "      <th>location_raw</th>\n",
       "      <th>police_department</th>\n",
       "      <th>driver_gender</th>\n",
       "      <th>driver_age_raw</th>\n",
       "      <th>driver_age</th>\n",
       "      <th>driver_race_raw</th>\n",
       "      <th>driver_race</th>\n",
       "      <th>violation_raw</th>\n",
       "      <th>...</th>\n",
       "      <th>search_type_raw</th>\n",
       "      <th>search_type</th>\n",
       "      <th>contraband_found</th>\n",
       "      <th>stop_outcome</th>\n",
       "      <th>is_arrested</th>\n",
       "      <th>stop_duration</th>\n",
       "      <th>out_of_state</th>\n",
       "      <th>drugs_related_stop</th>\n",
       "      <th>district</th>\n",
       "      <th>frisk</th>\n",
       "    </tr>\n",
       "    <tr>\n",
       "      <th>stop_datetime</th>\n",
       "      <th></th>\n",
       "      <th></th>\n",
       "      <th></th>\n",
       "      <th></th>\n",
       "      <th></th>\n",
       "      <th></th>\n",
       "      <th></th>\n",
       "      <th></th>\n",
       "      <th></th>\n",
       "      <th></th>\n",
       "      <th></th>\n",
       "      <th></th>\n",
       "      <th></th>\n",
       "      <th></th>\n",
       "      <th></th>\n",
       "      <th></th>\n",
       "      <th></th>\n",
       "      <th></th>\n",
       "      <th></th>\n",
       "      <th></th>\n",
       "      <th></th>\n",
       "    </tr>\n",
       "  </thead>\n",
       "  <tbody>\n",
       "    <tr>\n",
       "      <th>2005-01-02 01:55:00</th>\n",
       "      <td>RI-2005-00001</td>\n",
       "      <td>RI</td>\n",
       "      <td>Zone K1</td>\n",
       "      <td>600</td>\n",
       "      <td>M</td>\n",
       "      <td>1985.0</td>\n",
       "      <td>20.0</td>\n",
       "      <td>W</td>\n",
       "      <td>White</td>\n",
       "      <td>Speeding</td>\n",
       "      <td>...</td>\n",
       "      <td>NaN</td>\n",
       "      <td>NaN</td>\n",
       "      <td>False</td>\n",
       "      <td>Citation</td>\n",
       "      <td>False</td>\n",
       "      <td>0-15 Min</td>\n",
       "      <td>False</td>\n",
       "      <td>False</td>\n",
       "      <td>Zone K1</td>\n",
       "      <td>False</td>\n",
       "    </tr>\n",
       "  </tbody>\n",
       "</table>\n",
       "<p>1 rows × 22 columns</p>\n",
       "</div>"
      ],
      "text/plain": [
       "                                id state location_raw police_department  \\\n",
       "stop_datetime                                                             \n",
       "2005-01-02 01:55:00  RI-2005-00001    RI      Zone K1               600   \n",
       "\n",
       "                    driver_gender  driver_age_raw  driver_age driver_race_raw  \\\n",
       "stop_datetime                                                                   \n",
       "2005-01-02 01:55:00             M          1985.0        20.0               W   \n",
       "\n",
       "                    driver_race violation_raw  ... search_type_raw  \\\n",
       "stop_datetime                                  ...                   \n",
       "2005-01-02 01:55:00       White      Speeding  ...             NaN   \n",
       "\n",
       "                     search_type contraband_found stop_outcome  is_arrested  \\\n",
       "stop_datetime                                                                 \n",
       "2005-01-02 01:55:00          NaN            False     Citation        False   \n",
       "\n",
       "                    stop_duration  out_of_state drugs_related_stop district  \\\n",
       "stop_datetime                                                                 \n",
       "2005-01-02 01:55:00      0-15 Min         False              False  Zone K1   \n",
       "\n",
       "                     frisk  \n",
       "stop_datetime               \n",
       "2005-01-02 01:55:00  False  \n",
       "\n",
       "[1 rows x 22 columns]"
      ]
     },
     "execution_count": 119,
     "metadata": {},
     "output_type": "execute_result"
    }
   ],
   "source": [
    "ri.head(1)"
   ]
  },
  {
   "cell_type": "code",
   "execution_count": 127,
   "metadata": {},
   "outputs": [
    {
     "data": {
      "text/plain": [
       "dtype('bool')"
      ]
     },
     "execution_count": 127,
     "metadata": {},
     "output_type": "execute_result"
    }
   ],
   "source": [
    "ri[\"search_conducted\"].dtype"
   ]
  },
  {
   "cell_type": "code",
   "execution_count": 128,
   "metadata": {},
   "outputs": [
    {
     "data": {
      "text/plain": [
       "False    462822\n",
       "True      17762\n",
       "Name: search_conducted, dtype: int64"
      ]
     },
     "execution_count": 128,
     "metadata": {},
     "output_type": "execute_result"
    }
   ],
   "source": [
    "ri[\"search_conducted\"].value_counts()"
   ]
  },
  {
   "cell_type": "code",
   "execution_count": 129,
   "metadata": {},
   "outputs": [
    {
     "data": {
      "text/plain": [
       "False    0.963041\n",
       "True     0.036959\n",
       "Name: search_conducted, dtype: float64"
      ]
     },
     "execution_count": 129,
     "metadata": {},
     "output_type": "execute_result"
    }
   ],
   "source": [
    "ri[\"search_conducted\"].value_counts(normalize=True)"
   ]
  },
  {
   "cell_type": "code",
   "execution_count": 130,
   "metadata": {},
   "outputs": [
    {
     "data": {
      "text/plain": [
       "0.036959199640437465"
      ]
     },
     "execution_count": 130,
     "metadata": {},
     "output_type": "execute_result"
    }
   ],
   "source": [
    "ri[\"search_conducted\"].mean()"
   ]
  },
  {
   "cell_type": "markdown",
   "metadata": {},
   "source": [
    "***"
   ]
  },
  {
   "cell_type": "markdown",
   "metadata": {},
   "source": [
    "## Comparing search rates by gender"
   ]
  },
  {
   "cell_type": "markdown",
   "metadata": {},
   "source": [
    "You'll compare the rates at which **female** and **male** drivers are searched during a traffic stop. Remember that the vehicle search rate across all stops is about **3.8%**.\n",
    "\n",
    "First, you'll filter the ``DataFrame`` by gender and calculate the search rate for each group separately. Then, you'll perform the same calculation for both genders at once using a ``.groupby()``."
   ]
  },
  {
   "cell_type": "markdown",
   "metadata": {},
   "source": [
    "**INSTRUCTIONS 1/3**\n",
    "\n",
    "*   Filter the ``DataFrame`` to only include **female** drivers, and then calculate the search rate by taking the mean of ``search_conducted``."
   ]
  },
  {
   "cell_type": "code",
   "execution_count": 126,
   "metadata": {},
   "outputs": [
    {
     "data": {
      "text/plain": [
       "0.018751239152648355"
      ]
     },
     "execution_count": 126,
     "metadata": {},
     "output_type": "execute_result"
    }
   ],
   "source": [
    "ri[ri['driver_gender'] == 'F'].search_conducted.mean()"
   ]
  },
  {
   "cell_type": "code",
   "execution_count": 125,
   "metadata": {},
   "outputs": [
    {
     "data": {
      "text/plain": [
       "0.018751239152648355"
      ]
     },
     "execution_count": 125,
     "metadata": {},
     "output_type": "execute_result"
    }
   ],
   "source": [
    "ri_Female[\"search_conducted\"].mean()"
   ]
  },
  {
   "cell_type": "markdown",
   "metadata": {},
   "source": [
    "**INSTRUCTIONS 2/3**\n",
    "\n",
    "*   Filter the ``DataFrame`` to only include **male** drivers, and then repeat the search rate calculation."
   ]
  },
  {
   "cell_type": "code",
   "execution_count": 67,
   "metadata": {},
   "outputs": [
    {
     "data": {
      "text/plain": [
       "0.04379217389811301"
      ]
     },
     "execution_count": 67,
     "metadata": {},
     "output_type": "execute_result"
    }
   ],
   "source": [
    "ri[ri['driver_gender'] == 'M'].search_conducted.mean()"
   ]
  },
  {
   "cell_type": "code",
   "execution_count": 68,
   "metadata": {},
   "outputs": [
    {
     "data": {
      "text/plain": [
       "0.04379217389811301"
      ]
     },
     "execution_count": 68,
     "metadata": {},
     "output_type": "execute_result"
    }
   ],
   "source": [
    "ri_M[\"search_conducted\"].mean()"
   ]
  },
  {
   "cell_type": "markdown",
   "metadata": {},
   "source": [
    "**INSTRUCTIONS 3/3**\n",
    "\n",
    "*   Group by driver gender to calculate the search rate for both groups simultaneously. (It should match the previous results.)"
   ]
  },
  {
   "cell_type": "code",
   "execution_count": 131,
   "metadata": {},
   "outputs": [
    {
     "data": {
      "text/html": [
       "<div>\n",
       "<style scoped>\n",
       "    .dataframe tbody tr th:only-of-type {\n",
       "        vertical-align: middle;\n",
       "    }\n",
       "\n",
       "    .dataframe tbody tr th {\n",
       "        vertical-align: top;\n",
       "    }\n",
       "\n",
       "    .dataframe thead th {\n",
       "        text-align: right;\n",
       "    }\n",
       "</style>\n",
       "<table border=\"1\" class=\"dataframe\">\n",
       "  <thead>\n",
       "    <tr style=\"text-align: right;\">\n",
       "      <th></th>\n",
       "      <th>driver_age_raw</th>\n",
       "      <th>driver_age</th>\n",
       "      <th>search_conducted</th>\n",
       "      <th>contraband_found</th>\n",
       "      <th>is_arrested</th>\n",
       "      <th>drugs_related_stop</th>\n",
       "      <th>frisk</th>\n",
       "    </tr>\n",
       "    <tr>\n",
       "      <th>driver_gender</th>\n",
       "      <th></th>\n",
       "      <th></th>\n",
       "      <th></th>\n",
       "      <th></th>\n",
       "      <th></th>\n",
       "      <th></th>\n",
       "      <th></th>\n",
       "    </tr>\n",
       "  </thead>\n",
       "  <tbody>\n",
       "    <tr>\n",
       "      <th>F</th>\n",
       "      <td>1974.087275</td>\n",
       "      <td>32.536682</td>\n",
       "      <td>0.018751</td>\n",
       "      <td>0.006337</td>\n",
       "      <td>0.025492</td>\n",
       "      <td>0.004568</td>\n",
       "      <td>0.001251</td>\n",
       "    </tr>\n",
       "    <tr>\n",
       "      <th>M</th>\n",
       "      <td>1969.211775</td>\n",
       "      <td>34.524914</td>\n",
       "      <td>0.043792</td>\n",
       "      <td>0.016449</td>\n",
       "      <td>0.037946</td>\n",
       "      <td>0.011922</td>\n",
       "      <td>0.004104</td>\n",
       "    </tr>\n",
       "  </tbody>\n",
       "</table>\n",
       "</div>"
      ],
      "text/plain": [
       "               driver_age_raw  driver_age  search_conducted  contraband_found  \\\n",
       "driver_gender                                                                   \n",
       "F                 1974.087275   32.536682          0.018751          0.006337   \n",
       "M                 1969.211775   34.524914          0.043792          0.016449   \n",
       "\n",
       "               is_arrested  drugs_related_stop     frisk  \n",
       "driver_gender                                             \n",
       "F                 0.025492            0.004568  0.001251  \n",
       "M                 0.037946            0.011922  0.004104  "
      ]
     },
     "execution_count": 131,
     "metadata": {},
     "output_type": "execute_result"
    }
   ],
   "source": [
    "ri.groupby([\"driver_gender\"]).mean()"
   ]
  },
  {
   "cell_type": "code",
   "execution_count": 132,
   "metadata": {},
   "outputs": [
    {
     "data": {
      "text/plain": [
       "driver_gender\n",
       "F    0.018751\n",
       "M    0.043792\n",
       "Name: search_conducted, dtype: float64"
      ]
     },
     "execution_count": 132,
     "metadata": {},
     "output_type": "execute_result"
    }
   ],
   "source": [
    "ri.groupby([\"driver_gender\"]).search_conducted.mean()"
   ]
  },
  {
   "cell_type": "markdown",
   "metadata": {},
   "source": [
    "***"
   ]
  },
  {
   "cell_type": "markdown",
   "metadata": {},
   "source": [
    "## Adding a second factor to the analysis"
   ]
  },
  {
   "cell_type": "markdown",
   "metadata": {},
   "source": [
    "Even though the search rate for males is much higher than for females, it's possible that the difference is mostly due to a second factor.\n",
    "\n",
    "For example, you might hypothesize that the search rate varies by violation type, and the difference in search rate between males and females is because they tend to commit different violations.\n",
    "\n",
    "You can test this hypothesis by examining the search rate for each combination of gender and violation. If the hypothesis was true, you would find that males and females are searched at about the same rate for each violation. Find out below if that's the case!"
   ]
  },
  {
   "cell_type": "markdown",
   "metadata": {},
   "source": [
    "**INSTRUCTIONS 1/2**\n",
    "\n",
    "*   Use a ``.groupby()`` to calculate the search rate for each combination of gender and violation. Are males and females searched at about the same rate for each violation?"
   ]
  },
  {
   "cell_type": "code",
   "execution_count": 70,
   "metadata": {},
   "outputs": [
    {
     "data": {
      "text/plain": [
       "driver_gender  violation            search_conducted\n",
       "F              Equipment            False                13474\n",
       "                                    True                   565\n",
       "               Moving violation     False                17230\n",
       "                                    True                   681\n",
       "               Other                False                 3617\n",
       "                                    True                   174\n",
       "               Registration/plates  False                 5340\n",
       "                                    True                   309\n",
       "               Seat belt            False                 3487\n",
       "                                    True                    63\n",
       "               Speeding             False                85531\n",
       "                                    True                   667\n",
       "M              Equipment            False                43863\n",
       "                                    True                  3348\n",
       "               Moving violation     False                68039\n",
       "                                    True                  4278\n",
       "               Other                False                19483\n",
       "                                    True                   942\n",
       "               Registration/plates  False                12712\n",
       "                                    True                  1469\n",
       "               Seat belt            False                12369\n",
       "                                    True                   405\n",
       "               Speeding             False               177677\n",
       "                                    True                  4861\n",
       "Name: search_conducted, dtype: int64"
      ]
     },
     "execution_count": 70,
     "metadata": {},
     "output_type": "execute_result"
    }
   ],
   "source": [
    "ri.groupby([\"driver_gender\", \"violation\"]).search_conducted.value_counts()"
   ]
  },
  {
   "cell_type": "code",
   "execution_count": 71,
   "metadata": {},
   "outputs": [
    {
     "data": {
      "text/plain": [
       "driver_gender  violation            search_conducted\n",
       "F              Equipment            False               0.959755\n",
       "                                    True                0.040245\n",
       "               Moving violation     False               0.961979\n",
       "                                    True                0.038021\n",
       "               Other                False               0.954102\n",
       "                                    True                0.045898\n",
       "               Registration/plates  False               0.945300\n",
       "                                    True                0.054700\n",
       "               Seat belt            False               0.982254\n",
       "                                    True                0.017746\n",
       "               Speeding             False               0.992262\n",
       "                                    True                0.007738\n",
       "M              Equipment            False               0.929084\n",
       "                                    True                0.070916\n",
       "               Moving violation     False               0.940844\n",
       "                                    True                0.059156\n",
       "               Other                False               0.953880\n",
       "                                    True                0.046120\n",
       "               Registration/plates  False               0.896411\n",
       "                                    True                0.103589\n",
       "               Seat belt            False               0.968295\n",
       "                                    True                0.031705\n",
       "               Speeding             False               0.973370\n",
       "                                    True                0.026630\n",
       "Name: search_conducted, dtype: float64"
      ]
     },
     "execution_count": 71,
     "metadata": {},
     "output_type": "execute_result"
    }
   ],
   "source": [
    "ri.groupby([\"driver_gender\", \"violation\"]).search_conducted.value_counts(\"Normalize\")"
   ]
  },
  {
   "cell_type": "markdown",
   "metadata": {},
   "source": [
    "**INSTRUCTIONS 2/2**\n",
    "\n",
    "*   Reverse the ordering to group by violation before gender. The results may be easier to compare when presented this way."
   ]
  },
  {
   "cell_type": "code",
   "execution_count": 72,
   "metadata": {},
   "outputs": [
    {
     "data": {
      "text/plain": [
       "violation            driver_gender  search_conducted\n",
       "Equipment            F              False                13474\n",
       "                                    True                   565\n",
       "                     M              False                43863\n",
       "                                    True                  3348\n",
       "Moving violation     F              False                17230\n",
       "                                    True                   681\n",
       "                     M              False                68039\n",
       "                                    True                  4278\n",
       "Other                F              False                 3617\n",
       "                                    True                   174\n",
       "                     M              False                19483\n",
       "                                    True                   942\n",
       "Registration/plates  F              False                 5340\n",
       "                                    True                   309\n",
       "                     M              False                12712\n",
       "                                    True                  1469\n",
       "Seat belt            F              False                 3487\n",
       "                                    True                    63\n",
       "                     M              False                12369\n",
       "                                    True                   405\n",
       "Speeding             F              False                85531\n",
       "                                    True                   667\n",
       "                     M              False               177677\n",
       "                                    True                  4861\n",
       "Name: search_conducted, dtype: int64"
      ]
     },
     "execution_count": 72,
     "metadata": {},
     "output_type": "execute_result"
    }
   ],
   "source": [
    "ri.groupby([\"violation\", \"driver_gender\"]).search_conducted.value_counts()"
   ]
  },
  {
   "cell_type": "code",
   "execution_count": 73,
   "metadata": {},
   "outputs": [
    {
     "data": {
      "text/plain": [
       "violation            driver_gender  search_conducted\n",
       "Equipment            F              False               0.959755\n",
       "                                    True                0.040245\n",
       "                     M              False               0.929084\n",
       "                                    True                0.070916\n",
       "Moving violation     F              False               0.961979\n",
       "                                    True                0.038021\n",
       "                     M              False               0.940844\n",
       "                                    True                0.059156\n",
       "Other                F              False               0.954102\n",
       "                                    True                0.045898\n",
       "                     M              False               0.953880\n",
       "                                    True                0.046120\n",
       "Registration/plates  F              False               0.945300\n",
       "                                    True                0.054700\n",
       "                     M              False               0.896411\n",
       "                                    True                0.103589\n",
       "Seat belt            F              False               0.982254\n",
       "                                    True                0.017746\n",
       "                     M              False               0.968295\n",
       "                                    True                0.031705\n",
       "Speeding             F              False               0.992262\n",
       "                                    True                0.007738\n",
       "                     M              False               0.973370\n",
       "                                    True                0.026630\n",
       "Name: search_conducted, dtype: float64"
      ]
     },
     "execution_count": 73,
     "metadata": {},
     "output_type": "execute_result"
    }
   ],
   "source": [
    "ri.groupby([\"violation\", \"driver_gender\"]).search_conducted.value_counts(\"Normalize\")"
   ]
  },
  {
   "cell_type": "markdown",
   "metadata": {},
   "source": [
    "***"
   ]
  },
  {
   "cell_type": "markdown",
   "metadata": {},
   "source": [
    "## Counting protective frisks"
   ]
  },
  {
   "cell_type": "markdown",
   "metadata": {},
   "source": [
    "During a vehicle search, the police officer may pat down the driver to check if they have a weapon. This is known as a ``\"protective frisk.\"``\n",
    "\n",
    "You'll first check to see how many times \"Protective Frisk\" was the only search type. Then, you'll use a string method to locate all instances in which the driver was frisked."
   ]
  },
  {
   "cell_type": "markdown",
   "metadata": {},
   "source": [
    "**INSTRUCTIONS**\n",
    "\n",
    "*   Count the ``search_type`` values to see how many times ``\"Protective Frisk\"`` was the only search type.\n",
    "*   Create a new column, frisk, that is ``True`` if ``search_type`` contains the string ``\"Protective Frisk\"`` and ``False`` otherwise.\n",
    "*   Check the data type of frisk to confirm that it's a ``Boolean Series``.\n",
    "*   Take the sum of frisk to count the total number of frisks."
   ]
  },
  {
   "cell_type": "code",
   "execution_count": 74,
   "metadata": {},
   "outputs": [
    {
     "data": {
      "text/html": [
       "<div>\n",
       "<style scoped>\n",
       "    .dataframe tbody tr th:only-of-type {\n",
       "        vertical-align: middle;\n",
       "    }\n",
       "\n",
       "    .dataframe tbody tr th {\n",
       "        vertical-align: top;\n",
       "    }\n",
       "\n",
       "    .dataframe thead th {\n",
       "        text-align: right;\n",
       "    }\n",
       "</style>\n",
       "<table border=\"1\" class=\"dataframe\">\n",
       "  <thead>\n",
       "    <tr style=\"text-align: right;\">\n",
       "      <th></th>\n",
       "      <th>id</th>\n",
       "      <th>state</th>\n",
       "      <th>location_raw</th>\n",
       "      <th>police_department</th>\n",
       "      <th>driver_gender</th>\n",
       "      <th>driver_age_raw</th>\n",
       "      <th>driver_age</th>\n",
       "      <th>driver_race_raw</th>\n",
       "      <th>driver_race</th>\n",
       "      <th>violation_raw</th>\n",
       "      <th>...</th>\n",
       "      <th>search_conducted</th>\n",
       "      <th>search_type_raw</th>\n",
       "      <th>search_type</th>\n",
       "      <th>contraband_found</th>\n",
       "      <th>stop_outcome</th>\n",
       "      <th>is_arrested</th>\n",
       "      <th>stop_duration</th>\n",
       "      <th>out_of_state</th>\n",
       "      <th>drugs_related_stop</th>\n",
       "      <th>district</th>\n",
       "    </tr>\n",
       "    <tr>\n",
       "      <th>stop_datetime</th>\n",
       "      <th></th>\n",
       "      <th></th>\n",
       "      <th></th>\n",
       "      <th></th>\n",
       "      <th></th>\n",
       "      <th></th>\n",
       "      <th></th>\n",
       "      <th></th>\n",
       "      <th></th>\n",
       "      <th></th>\n",
       "      <th></th>\n",
       "      <th></th>\n",
       "      <th></th>\n",
       "      <th></th>\n",
       "      <th></th>\n",
       "      <th></th>\n",
       "      <th></th>\n",
       "      <th></th>\n",
       "      <th></th>\n",
       "      <th></th>\n",
       "      <th></th>\n",
       "    </tr>\n",
       "  </thead>\n",
       "  <tbody>\n",
       "    <tr>\n",
       "      <th>2005-01-02 01:55:00</th>\n",
       "      <td>RI-2005-00001</td>\n",
       "      <td>RI</td>\n",
       "      <td>Zone K1</td>\n",
       "      <td>600</td>\n",
       "      <td>M</td>\n",
       "      <td>1985.0</td>\n",
       "      <td>20.0</td>\n",
       "      <td>W</td>\n",
       "      <td>White</td>\n",
       "      <td>Speeding</td>\n",
       "      <td>...</td>\n",
       "      <td>False</td>\n",
       "      <td>NaN</td>\n",
       "      <td>NaN</td>\n",
       "      <td>False</td>\n",
       "      <td>Citation</td>\n",
       "      <td>False</td>\n",
       "      <td>0-15 Min</td>\n",
       "      <td>False</td>\n",
       "      <td>False</td>\n",
       "      <td>Zone K1</td>\n",
       "    </tr>\n",
       "  </tbody>\n",
       "</table>\n",
       "<p>1 rows × 21 columns</p>\n",
       "</div>"
      ],
      "text/plain": [
       "                                id state location_raw police_department  \\\n",
       "stop_datetime                                                             \n",
       "2005-01-02 01:55:00  RI-2005-00001    RI      Zone K1               600   \n",
       "\n",
       "                    driver_gender  driver_age_raw  driver_age driver_race_raw  \\\n",
       "stop_datetime                                                                   \n",
       "2005-01-02 01:55:00             M          1985.0        20.0               W   \n",
       "\n",
       "                    driver_race violation_raw  ... search_conducted  \\\n",
       "stop_datetime                                  ...                    \n",
       "2005-01-02 01:55:00       White      Speeding  ...            False   \n",
       "\n",
       "                     search_type_raw search_type contraband_found  \\\n",
       "stop_datetime                                                       \n",
       "2005-01-02 01:55:00              NaN         NaN            False   \n",
       "\n",
       "                     stop_outcome is_arrested  stop_duration out_of_state  \\\n",
       "stop_datetime                                                               \n",
       "2005-01-02 01:55:00      Citation       False       0-15 Min        False   \n",
       "\n",
       "                    drugs_related_stop  district  \n",
       "stop_datetime                                     \n",
       "2005-01-02 01:55:00              False   Zone K1  \n",
       "\n",
       "[1 rows x 21 columns]"
      ]
     },
     "execution_count": 74,
     "metadata": {},
     "output_type": "execute_result"
    }
   ],
   "source": [
    "ri.head(1)"
   ]
  },
  {
   "cell_type": "code",
   "execution_count": 76,
   "metadata": {},
   "outputs": [
    {
     "data": {
      "text/plain": [
       "Incident to Arrest                                          6998\n",
       "Probable Cause                                              4989\n",
       "Reasonable Suspicion                                        1141\n",
       "Inventory                                                   1101\n",
       "Protective Frisk                                             879\n",
       "Incident to Arrest,Inventory                                 649\n",
       "Incident to Arrest,Probable Cause                            552\n",
       "Probable Cause,Reasonable Suspicion                          334\n",
       "Probable Cause,Protective Frisk                              221\n",
       "Incident to Arrest,Protective Frisk                          158\n",
       "Incident to Arrest,Inventory,Probable Cause                  151\n",
       "Inventory,Probable Cause                                     132\n",
       "Protective Frisk,Reasonable Suspicion                         83\n",
       "Incident to Arrest,Inventory,Protective Frisk                 77\n",
       "Incident to Arrest,Probable Cause,Protective Frisk            74\n",
       "Inventory,Protective Frisk                                    52\n",
       "Incident to Arrest,Reasonable Suspicion                       49\n",
       "Incident to Arrest,Probable Cause,Reasonable Suspicion        31\n",
       "Probable Cause,Protective Frisk,Reasonable Suspicion          31\n",
       "Inventory,Reasonable Suspicion                                17\n",
       "Inventory,Probable Cause,Protective Frisk                     14\n",
       "Incident to Arrest,Inventory,Reasonable Suspicion             12\n",
       "Inventory,Probable Cause,Reasonable Suspicion                  8\n",
       "Incident to Arrest,Protective Frisk,Reasonable Suspicion       8\n",
       "Inventory,Protective Frisk,Reasonable Suspicion                1\n",
       "Name: search_type, dtype: int64"
      ]
     },
     "execution_count": 76,
     "metadata": {},
     "output_type": "execute_result"
    }
   ],
   "source": [
    "ri.search_type.value_counts()"
   ]
  },
  {
   "cell_type": "code",
   "execution_count": 134,
   "metadata": {},
   "outputs": [],
   "source": [
    "ri[\"frisk\"] = ri.search_type.str.contains(\"Protective Frisk\", na=False)"
   ]
  },
  {
   "cell_type": "code",
   "execution_count": 78,
   "metadata": {},
   "outputs": [
    {
     "data": {
      "text/plain": [
       "dtype('bool')"
      ]
     },
     "execution_count": 78,
     "metadata": {},
     "output_type": "execute_result"
    }
   ],
   "source": [
    "ri['frisk'].dtype"
   ]
  },
  {
   "cell_type": "code",
   "execution_count": 79,
   "metadata": {},
   "outputs": [
    {
     "data": {
      "text/plain": [
       "1598"
      ]
     },
     "execution_count": 79,
     "metadata": {},
     "output_type": "execute_result"
    }
   ],
   "source": [
    "#ri.frisk.sum()\n",
    "ri['frisk'].sum()"
   ]
  },
  {
   "cell_type": "code",
   "execution_count": 80,
   "metadata": {},
   "outputs": [
    {
     "data": {
      "text/plain": [
       "False    478986\n",
       "True       1598\n",
       "Name: frisk, dtype: int64"
      ]
     },
     "execution_count": 80,
     "metadata": {},
     "output_type": "execute_result"
    }
   ],
   "source": [
    "ri['frisk'].value_counts()"
   ]
  },
  {
   "cell_type": "code",
   "execution_count": null,
   "metadata": {},
   "outputs": [],
   "source": []
  },
  {
   "cell_type": "code",
   "execution_count": 147,
   "metadata": {},
   "outputs": [],
   "source": [
    "def frisk(a):\n",
    "    b = \"Protective Frisk\"\n",
    "    if  b in ri.columns :\n",
    "        return True\n",
    "    else:\n",
    "        return False"
   ]
  },
  {
   "cell_type": "code",
   "execution_count": 155,
   "metadata": {},
   "outputs": [],
   "source": [
    "#riV = ri.copy()\n",
    "#riV.head(1)"
   ]
  },
  {
   "cell_type": "code",
   "execution_count": 156,
   "metadata": {},
   "outputs": [],
   "source": [
    "#riV['frisk'] = riV['search_type'].apply(frisk)\n",
    "#riV.head(1)"
   ]
  },
  {
   "cell_type": "code",
   "execution_count": 157,
   "metadata": {},
   "outputs": [],
   "source": [
    "#riV.columns"
   ]
  },
  {
   "cell_type": "code",
   "execution_count": 158,
   "metadata": {},
   "outputs": [],
   "source": [
    "#riV.info()"
   ]
  },
  {
   "cell_type": "code",
   "execution_count": 159,
   "metadata": {},
   "outputs": [],
   "source": [
    "#riV[\"frisk\"].dtype"
   ]
  },
  {
   "cell_type": "code",
   "execution_count": 160,
   "metadata": {},
   "outputs": [],
   "source": [
    "#riV[\"frisk\"]"
   ]
  },
  {
   "cell_type": "code",
   "execution_count": 161,
   "metadata": {},
   "outputs": [],
   "source": [
    "#riV[\"frisk\"].value_counts()"
   ]
  },
  {
   "cell_type": "markdown",
   "metadata": {},
   "source": [
    "***"
   ]
  },
  {
   "cell_type": "markdown",
   "metadata": {},
   "source": [
    "## Comparing frisk rates by gender"
   ]
  },
  {
   "cell_type": "markdown",
   "metadata": {},
   "source": [
    "You'll compare the rates at which female and male drivers are frisked during a search. Are males frisked more often than females, perhaps because police officers consider them to be higher risk?\n",
    "\n",
    "Before doing any calculations, it's important to filter the ``DataFrame`` to only include the relevant subset of data, namely stops in which a search was conducted."
   ]
  },
  {
   "cell_type": "markdown",
   "metadata": {},
   "source": [
    "**INSTRUCTIONS**\n",
    "\n",
    "*   Create a ``DataFrame``, searched, that only contains rows in which ``search_conducted`` is ``True``.\n",
    "*   Take the mean of the frisk column to find out what percentage of searches included a frisk.\n",
    "*   Calculate the frisk rate for each gender using a ``.groupby()``."
   ]
  },
  {
   "cell_type": "code",
   "execution_count": 163,
   "metadata": {},
   "outputs": [],
   "source": [
    "# searched = ri[ri['search_conducted']]\n",
    "searched = ri[ri['search_conducted'] == True]"
   ]
  },
  {
   "cell_type": "code",
   "execution_count": 92,
   "metadata": {},
   "outputs": [
    {
     "data": {
      "text/plain": [
       "stop_datetime\n",
       "2005-01-24 20:32:00    False\n",
       "2005-02-09 03:05:00     True\n",
       "2005-08-28 01:00:00     True\n",
       "2005-09-15 02:20:00    False\n",
       "2005-09-24 02:20:00    False\n",
       "                       ...  \n",
       "2015-12-28 11:05:00    False\n",
       "2015-12-30 01:37:00     True\n",
       "2015-12-30 08:51:00    False\n",
       "2015-12-30 13:15:00    False\n",
       "2015-12-30 15:58:00    False\n",
       "Name: frisk, Length: 17762, dtype: bool"
      ]
     },
     "execution_count": 92,
     "metadata": {},
     "output_type": "execute_result"
    }
   ],
   "source": [
    "searched['frisk']"
   ]
  },
  {
   "cell_type": "code",
   "execution_count": 94,
   "metadata": {},
   "outputs": [
    {
     "data": {
      "text/plain": [
       "0.08996734601959239"
      ]
     },
     "execution_count": 94,
     "metadata": {},
     "output_type": "execute_result"
    }
   ],
   "source": [
    "searched['frisk'].mean()"
   ]
  },
  {
   "cell_type": "code",
   "execution_count": 164,
   "metadata": {},
   "outputs": [
    {
     "data": {
      "text/plain": [
       "driver_gender\n",
       "F    0.066694\n",
       "M    0.093707\n",
       "Name: frisk, dtype: float64"
      ]
     },
     "execution_count": 164,
     "metadata": {},
     "output_type": "execute_result"
    }
   ],
   "source": [
    "searched.groupby([\"driver_gender\"]).frisk.mean()"
   ]
  },
  {
   "cell_type": "code",
   "execution_count": 96,
   "metadata": {},
   "outputs": [
    {
     "data": {
      "text/plain": [
       "driver_gender  frisk\n",
       "F              False    0.933306\n",
       "               True     0.066694\n",
       "M              False    0.906293\n",
       "               True     0.093707\n",
       "Name: frisk, dtype: float64"
      ]
     },
     "execution_count": 96,
     "metadata": {},
     "output_type": "execute_result"
    }
   ],
   "source": [
    "searched.groupby([\"driver_gender\"]).frisk.value_counts(\"Normalize\")"
   ]
  },
  {
   "cell_type": "code",
   "execution_count": null,
   "metadata": {},
   "outputs": [],
   "source": []
  }
 ],
 "metadata": {
  "kernelspec": {
   "display_name": "Python 3 (ipykernel)",
   "language": "python",
   "name": "python3"
  },
  "language_info": {
   "codemirror_mode": {
    "name": "ipython",
    "version": 3
   },
   "file_extension": ".py",
   "mimetype": "text/x-python",
   "name": "python",
   "nbconvert_exporter": "python",
   "pygments_lexer": "ipython3",
   "version": "3.9.7"
  }
 },
 "nbformat": 4,
 "nbformat_minor": 4
}
